{
  "nbformat": 4,
  "nbformat_minor": 0,
  "metadata": {
    "colab": {
      "provenance": []
    },
    "kernelspec": {
      "name": "python3",
      "display_name": "Python 3"
    },
    "language_info": {
      "name": "python"
    }
  },
  "cells": [
    {
      "cell_type": "markdown",
      "source": [
        "Perform clustering (hierarchical,K means clustering and DBSCAN) for the airlines data to obtain optimum number of clusters. \n",
        "Draw the inferences from the clusters obtained.\n",
        "\n",
        "# Data Description:\n",
        " \n",
        "The file EastWestAirlinescontains information on passengers who belong to an airline’s frequent flier program. For each passenger the data include information on their mileage history and on different ways they accrued or spent miles in the last year. The goal is to try to identify clusters of passengers that have similar characteristics for the purpose of targeting different segments for different types of mileage offers\n",
        "\n",
        "ID --Unique ID\n",
        "\n",
        "Balance--Number of miles eligible for award travel\n",
        "\n",
        "Qual_mile--Number of miles counted as qualifying for Topflight status\n",
        "\n",
        "cc1_miles -- Number of miles earned with freq. flyer credit card in the past 12 months:\n",
        "cc2_miles -- Number of miles earned with Rewards credit card in the past 12 months:\n",
        "cc3_miles -- Number of miles earned with Small Business credit card in the past 12 months:\n",
        "\n",
        "1 = under 5,000\n",
        "2 = 5,000 - 10,000\n",
        "3 = 10,001 - 25,000\n",
        "4 = 25,001 - 50,000\n",
        "5 = over 50,000\n",
        "\n",
        "Bonus_miles--Number of miles earned from non-flight bonus transactions in the past 12 months\n",
        "\n",
        "Bonus_trans--Number of non-flight bonus transactions in the past 12 months\n",
        "\n",
        "Flight_miles_12mo--Number of flight miles in the past 12 months\n",
        "\n",
        "Flight_trans_12--Number of flight transactions in the past 12 months\n",
        "\n",
        "Days_since_enrolled--Number of days since enrolled in flier program\n",
        "\n",
        "Award--whether that person had award flight (free flight) or not\n"
      ],
      "metadata": {
        "id": "wvHLBBnaFaQP"
      }
    },
    {
      "cell_type": "code",
      "execution_count": 3,
      "metadata": {
        "id": "7CwEhQiwOGp7"
      },
      "outputs": [],
      "source": [
        "import pandas as pd\n",
        "import numpy as np\n",
        "import seaborn as sns\n",
        "import matplotlib.pyplot as plt\n",
        "\n",
        "from sklearn.preprocessing import StandardScaler\n",
        "\n",
        "from sklearn.cluster import KMeans, AgglomerativeClustering, DBSCAN\n",
        "\n",
        "import scipy.cluster.hierarchy as sch\n",
        "from sklearn.preprocessing import MinMaxScaler, StandardScaler\n",
        "from yellowbrick.cluster import KElbowVisualizer\n",
        "from sklearn.metrics import silhouette_score as sil, calinski_harabasz_score as chs, silhouette_samples"
      ]
    },
    {
      "cell_type": "code",
      "source": [
        "data=pd.read_excel(\"EastWestAirlines.xlsx\")"
      ],
      "metadata": {
        "id": "KA_2ftEyOMXY"
      },
      "execution_count": 4,
      "outputs": []
    },
    {
      "cell_type": "markdown",
      "source": [
        "# EDA"
      ],
      "metadata": {
        "id": "OlqocMneJH7B"
      }
    },
    {
      "cell_type": "code",
      "source": [
        "# Data display customization\n",
        "\n",
        "pd.set_option('display.max_columns', None)\n",
        "pd.set_option('display.max_colwidth', -1)"
      ],
      "metadata": {
        "colab": {
          "base_uri": "https://localhost:8080/"
        },
        "id": "t1VithU7Ue1P",
        "outputId": "64b77609-dc2e-4ee4-be1a-bc944de2dfda"
      },
      "execution_count": 5,
      "outputs": [
        {
          "output_type": "stream",
          "name": "stderr",
          "text": [
            "/usr/local/lib/python3.7/dist-packages/ipykernel_launcher.py:4: FutureWarning: Passing a negative integer is deprecated in version 1.0 and will not be supported in future version. Instead, use None to not limit the column width.\n",
            "  after removing the cwd from sys.path.\n"
          ]
        }
      ]
    },
    {
      "cell_type": "code",
      "source": [
        "# Importing dataset\n",
        "data = pd.read_excel('EastWestAirlines.xlsx',sheet_name='data')\n",
        "\n",
        "# Column rename.\n",
        "data.rename(columns={'ID#':'ID', 'Award?':'Award'}, inplace=True)\n",
        "\n",
        "#Set ID as Index Column\n",
        "data.set_index('ID',inplace=True)\n",
        "data"
      ],
      "metadata": {
        "colab": {
          "base_uri": "https://localhost:8080/",
          "height": 455
        },
        "id": "6S8f28qxH7rm",
        "outputId": "36778996-cef8-4fff-ab8b-f822157ab573"
      },
      "execution_count": 6,
      "outputs": [
        {
          "output_type": "execute_result",
          "data": {
            "text/plain": [
              "      Balance  Qual_miles  cc1_miles  cc2_miles  cc3_miles  Bonus_miles  \\\n",
              "ID                                                                        \n",
              "1     28143    0           1          1          1          174           \n",
              "2     19244    0           1          1          1          215           \n",
              "3     41354    0           1          1          1          4123          \n",
              "4     14776    0           1          1          1          500           \n",
              "5     97752    0           4          1          1          43300         \n",
              "...     ...   ..          ..         ..         ..          ...           \n",
              "4017  18476    0           1          1          1          8525          \n",
              "4018  64385    0           1          1          1          981           \n",
              "4019  73597    0           3          1          1          25447         \n",
              "4020  54899    0           1          1          1          500           \n",
              "4021  3016     0           1          1          1          0             \n",
              "\n",
              "      Bonus_trans  Flight_miles_12mo  Flight_trans_12  Days_since_enroll  \\\n",
              "ID                                                                         \n",
              "1     1            0                  0                7000                \n",
              "2     2            0                  0                6968                \n",
              "3     4            0                  0                7034                \n",
              "4     1            0                  0                6952                \n",
              "5     26           2077               4                6935                \n",
              "...  ..           ..                 ..                 ...                \n",
              "4017  4            200                1                1403                \n",
              "4018  5            0                  0                1395                \n",
              "4019  8            0                  0                1402                \n",
              "4020  1            500                1                1401                \n",
              "4021  0            0                  0                1398                \n",
              "\n",
              "      Award  \n",
              "ID           \n",
              "1     0      \n",
              "2     0      \n",
              "3     0      \n",
              "4     0      \n",
              "5     1      \n",
              "...  ..      \n",
              "4017  1      \n",
              "4018  1      \n",
              "4019  1      \n",
              "4020  0      \n",
              "4021  0      \n",
              "\n",
              "[3999 rows x 11 columns]"
            ],
            "text/html": [
              "\n",
              "  <div id=\"df-4ee564f9-0d87-4319-8dd1-31fdad5faba0\">\n",
              "    <div class=\"colab-df-container\">\n",
              "      <div>\n",
              "<style scoped>\n",
              "    .dataframe tbody tr th:only-of-type {\n",
              "        vertical-align: middle;\n",
              "    }\n",
              "\n",
              "    .dataframe tbody tr th {\n",
              "        vertical-align: top;\n",
              "    }\n",
              "\n",
              "    .dataframe thead th {\n",
              "        text-align: right;\n",
              "    }\n",
              "</style>\n",
              "<table border=\"1\" class=\"dataframe\">\n",
              "  <thead>\n",
              "    <tr style=\"text-align: right;\">\n",
              "      <th></th>\n",
              "      <th>Balance</th>\n",
              "      <th>Qual_miles</th>\n",
              "      <th>cc1_miles</th>\n",
              "      <th>cc2_miles</th>\n",
              "      <th>cc3_miles</th>\n",
              "      <th>Bonus_miles</th>\n",
              "      <th>Bonus_trans</th>\n",
              "      <th>Flight_miles_12mo</th>\n",
              "      <th>Flight_trans_12</th>\n",
              "      <th>Days_since_enroll</th>\n",
              "      <th>Award</th>\n",
              "    </tr>\n",
              "    <tr>\n",
              "      <th>ID</th>\n",
              "      <th></th>\n",
              "      <th></th>\n",
              "      <th></th>\n",
              "      <th></th>\n",
              "      <th></th>\n",
              "      <th></th>\n",
              "      <th></th>\n",
              "      <th></th>\n",
              "      <th></th>\n",
              "      <th></th>\n",
              "      <th></th>\n",
              "    </tr>\n",
              "  </thead>\n",
              "  <tbody>\n",
              "    <tr>\n",
              "      <th>1</th>\n",
              "      <td>28143</td>\n",
              "      <td>0</td>\n",
              "      <td>1</td>\n",
              "      <td>1</td>\n",
              "      <td>1</td>\n",
              "      <td>174</td>\n",
              "      <td>1</td>\n",
              "      <td>0</td>\n",
              "      <td>0</td>\n",
              "      <td>7000</td>\n",
              "      <td>0</td>\n",
              "    </tr>\n",
              "    <tr>\n",
              "      <th>2</th>\n",
              "      <td>19244</td>\n",
              "      <td>0</td>\n",
              "      <td>1</td>\n",
              "      <td>1</td>\n",
              "      <td>1</td>\n",
              "      <td>215</td>\n",
              "      <td>2</td>\n",
              "      <td>0</td>\n",
              "      <td>0</td>\n",
              "      <td>6968</td>\n",
              "      <td>0</td>\n",
              "    </tr>\n",
              "    <tr>\n",
              "      <th>3</th>\n",
              "      <td>41354</td>\n",
              "      <td>0</td>\n",
              "      <td>1</td>\n",
              "      <td>1</td>\n",
              "      <td>1</td>\n",
              "      <td>4123</td>\n",
              "      <td>4</td>\n",
              "      <td>0</td>\n",
              "      <td>0</td>\n",
              "      <td>7034</td>\n",
              "      <td>0</td>\n",
              "    </tr>\n",
              "    <tr>\n",
              "      <th>4</th>\n",
              "      <td>14776</td>\n",
              "      <td>0</td>\n",
              "      <td>1</td>\n",
              "      <td>1</td>\n",
              "      <td>1</td>\n",
              "      <td>500</td>\n",
              "      <td>1</td>\n",
              "      <td>0</td>\n",
              "      <td>0</td>\n",
              "      <td>6952</td>\n",
              "      <td>0</td>\n",
              "    </tr>\n",
              "    <tr>\n",
              "      <th>5</th>\n",
              "      <td>97752</td>\n",
              "      <td>0</td>\n",
              "      <td>4</td>\n",
              "      <td>1</td>\n",
              "      <td>1</td>\n",
              "      <td>43300</td>\n",
              "      <td>26</td>\n",
              "      <td>2077</td>\n",
              "      <td>4</td>\n",
              "      <td>6935</td>\n",
              "      <td>1</td>\n",
              "    </tr>\n",
              "    <tr>\n",
              "      <th>...</th>\n",
              "      <td>...</td>\n",
              "      <td>...</td>\n",
              "      <td>...</td>\n",
              "      <td>...</td>\n",
              "      <td>...</td>\n",
              "      <td>...</td>\n",
              "      <td>...</td>\n",
              "      <td>...</td>\n",
              "      <td>...</td>\n",
              "      <td>...</td>\n",
              "      <td>...</td>\n",
              "    </tr>\n",
              "    <tr>\n",
              "      <th>4017</th>\n",
              "      <td>18476</td>\n",
              "      <td>0</td>\n",
              "      <td>1</td>\n",
              "      <td>1</td>\n",
              "      <td>1</td>\n",
              "      <td>8525</td>\n",
              "      <td>4</td>\n",
              "      <td>200</td>\n",
              "      <td>1</td>\n",
              "      <td>1403</td>\n",
              "      <td>1</td>\n",
              "    </tr>\n",
              "    <tr>\n",
              "      <th>4018</th>\n",
              "      <td>64385</td>\n",
              "      <td>0</td>\n",
              "      <td>1</td>\n",
              "      <td>1</td>\n",
              "      <td>1</td>\n",
              "      <td>981</td>\n",
              "      <td>5</td>\n",
              "      <td>0</td>\n",
              "      <td>0</td>\n",
              "      <td>1395</td>\n",
              "      <td>1</td>\n",
              "    </tr>\n",
              "    <tr>\n",
              "      <th>4019</th>\n",
              "      <td>73597</td>\n",
              "      <td>0</td>\n",
              "      <td>3</td>\n",
              "      <td>1</td>\n",
              "      <td>1</td>\n",
              "      <td>25447</td>\n",
              "      <td>8</td>\n",
              "      <td>0</td>\n",
              "      <td>0</td>\n",
              "      <td>1402</td>\n",
              "      <td>1</td>\n",
              "    </tr>\n",
              "    <tr>\n",
              "      <th>4020</th>\n",
              "      <td>54899</td>\n",
              "      <td>0</td>\n",
              "      <td>1</td>\n",
              "      <td>1</td>\n",
              "      <td>1</td>\n",
              "      <td>500</td>\n",
              "      <td>1</td>\n",
              "      <td>500</td>\n",
              "      <td>1</td>\n",
              "      <td>1401</td>\n",
              "      <td>0</td>\n",
              "    </tr>\n",
              "    <tr>\n",
              "      <th>4021</th>\n",
              "      <td>3016</td>\n",
              "      <td>0</td>\n",
              "      <td>1</td>\n",
              "      <td>1</td>\n",
              "      <td>1</td>\n",
              "      <td>0</td>\n",
              "      <td>0</td>\n",
              "      <td>0</td>\n",
              "      <td>0</td>\n",
              "      <td>1398</td>\n",
              "      <td>0</td>\n",
              "    </tr>\n",
              "  </tbody>\n",
              "</table>\n",
              "<p>3999 rows × 11 columns</p>\n",
              "</div>\n",
              "      <button class=\"colab-df-convert\" onclick=\"convertToInteractive('df-4ee564f9-0d87-4319-8dd1-31fdad5faba0')\"\n",
              "              title=\"Convert this dataframe to an interactive table.\"\n",
              "              style=\"display:none;\">\n",
              "        \n",
              "  <svg xmlns=\"http://www.w3.org/2000/svg\" height=\"24px\"viewBox=\"0 0 24 24\"\n",
              "       width=\"24px\">\n",
              "    <path d=\"M0 0h24v24H0V0z\" fill=\"none\"/>\n",
              "    <path d=\"M18.56 5.44l.94 2.06.94-2.06 2.06-.94-2.06-.94-.94-2.06-.94 2.06-2.06.94zm-11 1L8.5 8.5l.94-2.06 2.06-.94-2.06-.94L8.5 2.5l-.94 2.06-2.06.94zm10 10l.94 2.06.94-2.06 2.06-.94-2.06-.94-.94-2.06-.94 2.06-2.06.94z\"/><path d=\"M17.41 7.96l-1.37-1.37c-.4-.4-.92-.59-1.43-.59-.52 0-1.04.2-1.43.59L10.3 9.45l-7.72 7.72c-.78.78-.78 2.05 0 2.83L4 21.41c.39.39.9.59 1.41.59.51 0 1.02-.2 1.41-.59l7.78-7.78 2.81-2.81c.8-.78.8-2.07 0-2.86zM5.41 20L4 18.59l7.72-7.72 1.47 1.35L5.41 20z\"/>\n",
              "  </svg>\n",
              "      </button>\n",
              "      \n",
              "  <style>\n",
              "    .colab-df-container {\n",
              "      display:flex;\n",
              "      flex-wrap:wrap;\n",
              "      gap: 12px;\n",
              "    }\n",
              "\n",
              "    .colab-df-convert {\n",
              "      background-color: #E8F0FE;\n",
              "      border: none;\n",
              "      border-radius: 50%;\n",
              "      cursor: pointer;\n",
              "      display: none;\n",
              "      fill: #1967D2;\n",
              "      height: 32px;\n",
              "      padding: 0 0 0 0;\n",
              "      width: 32px;\n",
              "    }\n",
              "\n",
              "    .colab-df-convert:hover {\n",
              "      background-color: #E2EBFA;\n",
              "      box-shadow: 0px 1px 2px rgba(60, 64, 67, 0.3), 0px 1px 3px 1px rgba(60, 64, 67, 0.15);\n",
              "      fill: #174EA6;\n",
              "    }\n",
              "\n",
              "    [theme=dark] .colab-df-convert {\n",
              "      background-color: #3B4455;\n",
              "      fill: #D2E3FC;\n",
              "    }\n",
              "\n",
              "    [theme=dark] .colab-df-convert:hover {\n",
              "      background-color: #434B5C;\n",
              "      box-shadow: 0px 1px 3px 1px rgba(0, 0, 0, 0.15);\n",
              "      filter: drop-shadow(0px 1px 2px rgba(0, 0, 0, 0.3));\n",
              "      fill: #FFFFFF;\n",
              "    }\n",
              "  </style>\n",
              "\n",
              "      <script>\n",
              "        const buttonEl =\n",
              "          document.querySelector('#df-4ee564f9-0d87-4319-8dd1-31fdad5faba0 button.colab-df-convert');\n",
              "        buttonEl.style.display =\n",
              "          google.colab.kernel.accessAllowed ? 'block' : 'none';\n",
              "\n",
              "        async function convertToInteractive(key) {\n",
              "          const element = document.querySelector('#df-4ee564f9-0d87-4319-8dd1-31fdad5faba0');\n",
              "          const dataTable =\n",
              "            await google.colab.kernel.invokeFunction('convertToInteractive',\n",
              "                                                     [key], {});\n",
              "          if (!dataTable) return;\n",
              "\n",
              "          const docLinkHtml = 'Like what you see? Visit the ' +\n",
              "            '<a target=\"_blank\" href=https://colab.research.google.com/notebooks/data_table.ipynb>data table notebook</a>'\n",
              "            + ' to learn more about interactive tables.';\n",
              "          element.innerHTML = '';\n",
              "          dataTable['output_type'] = 'display_data';\n",
              "          await google.colab.output.renderOutput(dataTable, element);\n",
              "          const docLink = document.createElement('div');\n",
              "          docLink.innerHTML = docLinkHtml;\n",
              "          element.appendChild(docLink);\n",
              "        }\n",
              "      </script>\n",
              "    </div>\n",
              "  </div>\n",
              "  "
            ]
          },
          "metadata": {},
          "execution_count": 6
        }
      ]
    },
    {
      "cell_type": "code",
      "source": [
        "data.describe()"
      ],
      "metadata": {
        "colab": {
          "base_uri": "https://localhost:8080/",
          "height": 344
        },
        "id": "u51NWCiDIAy2",
        "outputId": "e224d89e-5e09-4ef6-c6d6-4679cb6fb1ff"
      },
      "execution_count": 7,
      "outputs": [
        {
          "output_type": "execute_result",
          "data": {
            "text/plain": [
              "            Balance    Qual_miles    cc1_miles    cc2_miles    cc3_miles  \\\n",
              "count  3.999000e+03  3999.000000   3999.000000  3999.000000  3999.000000   \n",
              "mean   7.360133e+04  144.114529    2.059515     1.014504     1.012253      \n",
              "std    1.007757e+05  773.663804    1.376919     0.147650     0.195241      \n",
              "min    0.000000e+00  0.000000      1.000000     1.000000     1.000000      \n",
              "25%    1.852750e+04  0.000000      1.000000     1.000000     1.000000      \n",
              "50%    4.309700e+04  0.000000      1.000000     1.000000     1.000000      \n",
              "75%    9.240400e+04  0.000000      3.000000     1.000000     1.000000      \n",
              "max    1.704838e+06  11148.000000  5.000000     3.000000     5.000000      \n",
              "\n",
              "         Bonus_miles  Bonus_trans  Flight_miles_12mo  Flight_trans_12  \\\n",
              "count  3999.000000    3999.00000   3999.000000        3999.000000       \n",
              "mean   17144.846212   11.60190     460.055764         1.373593          \n",
              "std    24150.967826   9.60381      1400.209171        3.793172          \n",
              "min    0.000000       0.00000      0.000000           0.000000          \n",
              "25%    1250.000000    3.00000      0.000000           0.000000          \n",
              "50%    7171.000000    12.00000     0.000000           0.000000          \n",
              "75%    23800.500000   17.00000     311.000000         1.000000          \n",
              "max    263685.000000  86.00000     30817.000000       53.000000         \n",
              "\n",
              "       Days_since_enroll        Award  \n",
              "count  3999.00000         3999.000000  \n",
              "mean   4118.55939         0.370343     \n",
              "std    2065.13454         0.482957     \n",
              "min    2.00000            0.000000     \n",
              "25%    2330.00000         0.000000     \n",
              "50%    4096.00000         0.000000     \n",
              "75%    5790.50000         1.000000     \n",
              "max    8296.00000         1.000000     "
            ],
            "text/html": [
              "\n",
              "  <div id=\"df-6d1fa4cc-f096-498f-8df9-f8e3c4b82916\">\n",
              "    <div class=\"colab-df-container\">\n",
              "      <div>\n",
              "<style scoped>\n",
              "    .dataframe tbody tr th:only-of-type {\n",
              "        vertical-align: middle;\n",
              "    }\n",
              "\n",
              "    .dataframe tbody tr th {\n",
              "        vertical-align: top;\n",
              "    }\n",
              "\n",
              "    .dataframe thead th {\n",
              "        text-align: right;\n",
              "    }\n",
              "</style>\n",
              "<table border=\"1\" class=\"dataframe\">\n",
              "  <thead>\n",
              "    <tr style=\"text-align: right;\">\n",
              "      <th></th>\n",
              "      <th>Balance</th>\n",
              "      <th>Qual_miles</th>\n",
              "      <th>cc1_miles</th>\n",
              "      <th>cc2_miles</th>\n",
              "      <th>cc3_miles</th>\n",
              "      <th>Bonus_miles</th>\n",
              "      <th>Bonus_trans</th>\n",
              "      <th>Flight_miles_12mo</th>\n",
              "      <th>Flight_trans_12</th>\n",
              "      <th>Days_since_enroll</th>\n",
              "      <th>Award</th>\n",
              "    </tr>\n",
              "  </thead>\n",
              "  <tbody>\n",
              "    <tr>\n",
              "      <th>count</th>\n",
              "      <td>3.999000e+03</td>\n",
              "      <td>3999.000000</td>\n",
              "      <td>3999.000000</td>\n",
              "      <td>3999.000000</td>\n",
              "      <td>3999.000000</td>\n",
              "      <td>3999.000000</td>\n",
              "      <td>3999.00000</td>\n",
              "      <td>3999.000000</td>\n",
              "      <td>3999.000000</td>\n",
              "      <td>3999.00000</td>\n",
              "      <td>3999.000000</td>\n",
              "    </tr>\n",
              "    <tr>\n",
              "      <th>mean</th>\n",
              "      <td>7.360133e+04</td>\n",
              "      <td>144.114529</td>\n",
              "      <td>2.059515</td>\n",
              "      <td>1.014504</td>\n",
              "      <td>1.012253</td>\n",
              "      <td>17144.846212</td>\n",
              "      <td>11.60190</td>\n",
              "      <td>460.055764</td>\n",
              "      <td>1.373593</td>\n",
              "      <td>4118.55939</td>\n",
              "      <td>0.370343</td>\n",
              "    </tr>\n",
              "    <tr>\n",
              "      <th>std</th>\n",
              "      <td>1.007757e+05</td>\n",
              "      <td>773.663804</td>\n",
              "      <td>1.376919</td>\n",
              "      <td>0.147650</td>\n",
              "      <td>0.195241</td>\n",
              "      <td>24150.967826</td>\n",
              "      <td>9.60381</td>\n",
              "      <td>1400.209171</td>\n",
              "      <td>3.793172</td>\n",
              "      <td>2065.13454</td>\n",
              "      <td>0.482957</td>\n",
              "    </tr>\n",
              "    <tr>\n",
              "      <th>min</th>\n",
              "      <td>0.000000e+00</td>\n",
              "      <td>0.000000</td>\n",
              "      <td>1.000000</td>\n",
              "      <td>1.000000</td>\n",
              "      <td>1.000000</td>\n",
              "      <td>0.000000</td>\n",
              "      <td>0.00000</td>\n",
              "      <td>0.000000</td>\n",
              "      <td>0.000000</td>\n",
              "      <td>2.00000</td>\n",
              "      <td>0.000000</td>\n",
              "    </tr>\n",
              "    <tr>\n",
              "      <th>25%</th>\n",
              "      <td>1.852750e+04</td>\n",
              "      <td>0.000000</td>\n",
              "      <td>1.000000</td>\n",
              "      <td>1.000000</td>\n",
              "      <td>1.000000</td>\n",
              "      <td>1250.000000</td>\n",
              "      <td>3.00000</td>\n",
              "      <td>0.000000</td>\n",
              "      <td>0.000000</td>\n",
              "      <td>2330.00000</td>\n",
              "      <td>0.000000</td>\n",
              "    </tr>\n",
              "    <tr>\n",
              "      <th>50%</th>\n",
              "      <td>4.309700e+04</td>\n",
              "      <td>0.000000</td>\n",
              "      <td>1.000000</td>\n",
              "      <td>1.000000</td>\n",
              "      <td>1.000000</td>\n",
              "      <td>7171.000000</td>\n",
              "      <td>12.00000</td>\n",
              "      <td>0.000000</td>\n",
              "      <td>0.000000</td>\n",
              "      <td>4096.00000</td>\n",
              "      <td>0.000000</td>\n",
              "    </tr>\n",
              "    <tr>\n",
              "      <th>75%</th>\n",
              "      <td>9.240400e+04</td>\n",
              "      <td>0.000000</td>\n",
              "      <td>3.000000</td>\n",
              "      <td>1.000000</td>\n",
              "      <td>1.000000</td>\n",
              "      <td>23800.500000</td>\n",
              "      <td>17.00000</td>\n",
              "      <td>311.000000</td>\n",
              "      <td>1.000000</td>\n",
              "      <td>5790.50000</td>\n",
              "      <td>1.000000</td>\n",
              "    </tr>\n",
              "    <tr>\n",
              "      <th>max</th>\n",
              "      <td>1.704838e+06</td>\n",
              "      <td>11148.000000</td>\n",
              "      <td>5.000000</td>\n",
              "      <td>3.000000</td>\n",
              "      <td>5.000000</td>\n",
              "      <td>263685.000000</td>\n",
              "      <td>86.00000</td>\n",
              "      <td>30817.000000</td>\n",
              "      <td>53.000000</td>\n",
              "      <td>8296.00000</td>\n",
              "      <td>1.000000</td>\n",
              "    </tr>\n",
              "  </tbody>\n",
              "</table>\n",
              "</div>\n",
              "      <button class=\"colab-df-convert\" onclick=\"convertToInteractive('df-6d1fa4cc-f096-498f-8df9-f8e3c4b82916')\"\n",
              "              title=\"Convert this dataframe to an interactive table.\"\n",
              "              style=\"display:none;\">\n",
              "        \n",
              "  <svg xmlns=\"http://www.w3.org/2000/svg\" height=\"24px\"viewBox=\"0 0 24 24\"\n",
              "       width=\"24px\">\n",
              "    <path d=\"M0 0h24v24H0V0z\" fill=\"none\"/>\n",
              "    <path d=\"M18.56 5.44l.94 2.06.94-2.06 2.06-.94-2.06-.94-.94-2.06-.94 2.06-2.06.94zm-11 1L8.5 8.5l.94-2.06 2.06-.94-2.06-.94L8.5 2.5l-.94 2.06-2.06.94zm10 10l.94 2.06.94-2.06 2.06-.94-2.06-.94-.94-2.06-.94 2.06-2.06.94z\"/><path d=\"M17.41 7.96l-1.37-1.37c-.4-.4-.92-.59-1.43-.59-.52 0-1.04.2-1.43.59L10.3 9.45l-7.72 7.72c-.78.78-.78 2.05 0 2.83L4 21.41c.39.39.9.59 1.41.59.51 0 1.02-.2 1.41-.59l7.78-7.78 2.81-2.81c.8-.78.8-2.07 0-2.86zM5.41 20L4 18.59l7.72-7.72 1.47 1.35L5.41 20z\"/>\n",
              "  </svg>\n",
              "      </button>\n",
              "      \n",
              "  <style>\n",
              "    .colab-df-container {\n",
              "      display:flex;\n",
              "      flex-wrap:wrap;\n",
              "      gap: 12px;\n",
              "    }\n",
              "\n",
              "    .colab-df-convert {\n",
              "      background-color: #E8F0FE;\n",
              "      border: none;\n",
              "      border-radius: 50%;\n",
              "      cursor: pointer;\n",
              "      display: none;\n",
              "      fill: #1967D2;\n",
              "      height: 32px;\n",
              "      padding: 0 0 0 0;\n",
              "      width: 32px;\n",
              "    }\n",
              "\n",
              "    .colab-df-convert:hover {\n",
              "      background-color: #E2EBFA;\n",
              "      box-shadow: 0px 1px 2px rgba(60, 64, 67, 0.3), 0px 1px 3px 1px rgba(60, 64, 67, 0.15);\n",
              "      fill: #174EA6;\n",
              "    }\n",
              "\n",
              "    [theme=dark] .colab-df-convert {\n",
              "      background-color: #3B4455;\n",
              "      fill: #D2E3FC;\n",
              "    }\n",
              "\n",
              "    [theme=dark] .colab-df-convert:hover {\n",
              "      background-color: #434B5C;\n",
              "      box-shadow: 0px 1px 3px 1px rgba(0, 0, 0, 0.15);\n",
              "      filter: drop-shadow(0px 1px 2px rgba(0, 0, 0, 0.3));\n",
              "      fill: #FFFFFF;\n",
              "    }\n",
              "  </style>\n",
              "\n",
              "      <script>\n",
              "        const buttonEl =\n",
              "          document.querySelector('#df-6d1fa4cc-f096-498f-8df9-f8e3c4b82916 button.colab-df-convert');\n",
              "        buttonEl.style.display =\n",
              "          google.colab.kernel.accessAllowed ? 'block' : 'none';\n",
              "\n",
              "        async function convertToInteractive(key) {\n",
              "          const element = document.querySelector('#df-6d1fa4cc-f096-498f-8df9-f8e3c4b82916');\n",
              "          const dataTable =\n",
              "            await google.colab.kernel.invokeFunction('convertToInteractive',\n",
              "                                                     [key], {});\n",
              "          if (!dataTable) return;\n",
              "\n",
              "          const docLinkHtml = 'Like what you see? Visit the ' +\n",
              "            '<a target=\"_blank\" href=https://colab.research.google.com/notebooks/data_table.ipynb>data table notebook</a>'\n",
              "            + ' to learn more about interactive tables.';\n",
              "          element.innerHTML = '';\n",
              "          dataTable['output_type'] = 'display_data';\n",
              "          await google.colab.output.renderOutput(dataTable, element);\n",
              "          const docLink = document.createElement('div');\n",
              "          docLink.innerHTML = docLinkHtml;\n",
              "          element.appendChild(docLink);\n",
              "        }\n",
              "      </script>\n",
              "    </div>\n",
              "  </div>\n",
              "  "
            ]
          },
          "metadata": {},
          "execution_count": 7
        }
      ]
    },
    {
      "cell_type": "code",
      "source": [
        "data.info()"
      ],
      "metadata": {
        "colab": {
          "base_uri": "https://localhost:8080/"
        },
        "id": "XLG_GwyQRSCH",
        "outputId": "b8f441df-40b7-4704-cdbb-123facb30081"
      },
      "execution_count": 8,
      "outputs": [
        {
          "output_type": "stream",
          "name": "stdout",
          "text": [
            "<class 'pandas.core.frame.DataFrame'>\n",
            "Int64Index: 3999 entries, 1 to 4021\n",
            "Data columns (total 11 columns):\n",
            " #   Column             Non-Null Count  Dtype\n",
            "---  ------             --------------  -----\n",
            " 0   Balance            3999 non-null   int64\n",
            " 1   Qual_miles         3999 non-null   int64\n",
            " 2   cc1_miles          3999 non-null   int64\n",
            " 3   cc2_miles          3999 non-null   int64\n",
            " 4   cc3_miles          3999 non-null   int64\n",
            " 5   Bonus_miles        3999 non-null   int64\n",
            " 6   Bonus_trans        3999 non-null   int64\n",
            " 7   Flight_miles_12mo  3999 non-null   int64\n",
            " 8   Flight_trans_12    3999 non-null   int64\n",
            " 9   Days_since_enroll  3999 non-null   int64\n",
            " 10  Award              3999 non-null   int64\n",
            "dtypes: int64(11)\n",
            "memory usage: 374.9 KB\n"
          ]
        }
      ]
    },
    {
      "cell_type": "code",
      "source": [
        "data.isnull().sum()"
      ],
      "metadata": {
        "colab": {
          "base_uri": "https://localhost:8080/"
        },
        "id": "K36tXGq3RU6F",
        "outputId": "ca5e3315-41be-487c-c1b8-4e650fedf6dd"
      },
      "execution_count": 9,
      "outputs": [
        {
          "output_type": "execute_result",
          "data": {
            "text/plain": [
              "Balance              0\n",
              "Qual_miles           0\n",
              "cc1_miles            0\n",
              "cc2_miles            0\n",
              "cc3_miles            0\n",
              "Bonus_miles          0\n",
              "Bonus_trans          0\n",
              "Flight_miles_12mo    0\n",
              "Flight_trans_12      0\n",
              "Days_since_enroll    0\n",
              "Award                0\n",
              "dtype: int64"
            ]
          },
          "metadata": {},
          "execution_count": 9
        }
      ]
    },
    {
      "cell_type": "code",
      "source": [
        "# different cc_miles have different max values.\n",
        "# so, we want to check what values these columns can take\n",
        "\n",
        "print('unique_cc1',data.cc1_miles.unique())\n",
        "print('unique_cc2',data.cc2_miles.unique())\n",
        "print('unique_cc3',data.cc3_miles.unique())"
      ],
      "metadata": {
        "colab": {
          "base_uri": "https://localhost:8080/"
        },
        "id": "v8fFq21wIHaA",
        "outputId": "66f7fbd9-5367-4986-967f-80adf87370fc"
      },
      "execution_count": 10,
      "outputs": [
        {
          "output_type": "stream",
          "name": "stdout",
          "text": [
            "unique_cc1 [1 4 3 2 5]\n",
            "unique_cc2 [1 2 3]\n",
            "unique_cc3 [1 3 2 4 5]\n"
          ]
        }
      ]
    },
    {
      "cell_type": "code",
      "source": [
        "# As a part of the data cleansing we check the data for any missing/ na values\n",
        "# null count for columns\n",
        "\n",
        "null_count_col = data.isnull().sum().value_counts(ascending=False)\n",
        "# null count for rows\n",
        "\n",
        "null_count_row = data.isnull().sum(axis=1).value_counts(ascending=False)"
      ],
      "metadata": {
        "id": "p_iQSLuMS5p_"
      },
      "execution_count": 11,
      "outputs": []
    },
    {
      "cell_type": "code",
      "source": [
        "# null count for rows\n",
        "\n",
        "null_count_row = data.isnull().sum(axis=1).value_counts(ascending=False)\n",
        "\n",
        "# null percentage for rows\n",
        "\n",
        "null_percent_row = (data.isnull().sum(axis=1) * 100 / len(data)).value_counts(ascending=False)\n",
        "\n",
        "print(\"Null Count for Rows:\\n\\n\", null_count_row, \"\\n\")\n",
        "print(\"Null Percentage for Rows:\\n\\n\", null_percent_row)"
      ],
      "metadata": {
        "colab": {
          "base_uri": "https://localhost:8080/"
        },
        "id": "DpYbDUv7IPl8",
        "outputId": "d295828b-638f-49b4-ce13-8d7dc39f77f9"
      },
      "execution_count": 12,
      "outputs": [
        {
          "output_type": "stream",
          "name": "stdout",
          "text": [
            "Null Count for Rows:\n",
            "\n",
            " 0    3999\n",
            "dtype: int64 \n",
            "\n",
            "Null Percentage for Rows:\n",
            "\n",
            " 0.0    3999\n",
            "dtype: int64\n"
          ]
        }
      ]
    },
    {
      "cell_type": "code",
      "source": [
        "data.duplicated().sum()"
      ],
      "metadata": {
        "colab": {
          "base_uri": "https://localhost:8080/"
        },
        "id": "Jv4NSP0oSww6",
        "outputId": "49babf12-0a35-41a8-eef3-47acee931fef"
      },
      "execution_count": 13,
      "outputs": [
        {
          "output_type": "execute_result",
          "data": {
            "text/plain": [
              "1"
            ]
          },
          "metadata": {},
          "execution_count": 13
        }
      ]
    },
    {
      "cell_type": "code",
      "source": [
        "data[data.duplicated()]"
      ],
      "metadata": {
        "colab": {
          "base_uri": "https://localhost:8080/",
          "height": 112
        },
        "id": "cycYSqtlTgbu",
        "outputId": "28d5cb16-be32-4170-afe5-7b136676a442"
      },
      "execution_count": 14,
      "outputs": [
        {
          "output_type": "execute_result",
          "data": {
            "text/plain": [
              "      Balance  Qual_miles  cc1_miles  cc2_miles  cc3_miles  Bonus_miles  \\\n",
              "ID                                                                        \n",
              "3899  1000     0           1          1          1          0             \n",
              "\n",
              "      Bonus_trans  Flight_miles_12mo  Flight_trans_12  Days_since_enroll  \\\n",
              "ID                                                                         \n",
              "3899  0            0                  0                1597                \n",
              "\n",
              "      Award  \n",
              "ID           \n",
              "3899  0      "
            ],
            "text/html": [
              "\n",
              "  <div id=\"df-924fe459-6b28-4ecf-a451-30c449cb645c\">\n",
              "    <div class=\"colab-df-container\">\n",
              "      <div>\n",
              "<style scoped>\n",
              "    .dataframe tbody tr th:only-of-type {\n",
              "        vertical-align: middle;\n",
              "    }\n",
              "\n",
              "    .dataframe tbody tr th {\n",
              "        vertical-align: top;\n",
              "    }\n",
              "\n",
              "    .dataframe thead th {\n",
              "        text-align: right;\n",
              "    }\n",
              "</style>\n",
              "<table border=\"1\" class=\"dataframe\">\n",
              "  <thead>\n",
              "    <tr style=\"text-align: right;\">\n",
              "      <th></th>\n",
              "      <th>Balance</th>\n",
              "      <th>Qual_miles</th>\n",
              "      <th>cc1_miles</th>\n",
              "      <th>cc2_miles</th>\n",
              "      <th>cc3_miles</th>\n",
              "      <th>Bonus_miles</th>\n",
              "      <th>Bonus_trans</th>\n",
              "      <th>Flight_miles_12mo</th>\n",
              "      <th>Flight_trans_12</th>\n",
              "      <th>Days_since_enroll</th>\n",
              "      <th>Award</th>\n",
              "    </tr>\n",
              "    <tr>\n",
              "      <th>ID</th>\n",
              "      <th></th>\n",
              "      <th></th>\n",
              "      <th></th>\n",
              "      <th></th>\n",
              "      <th></th>\n",
              "      <th></th>\n",
              "      <th></th>\n",
              "      <th></th>\n",
              "      <th></th>\n",
              "      <th></th>\n",
              "      <th></th>\n",
              "    </tr>\n",
              "  </thead>\n",
              "  <tbody>\n",
              "    <tr>\n",
              "      <th>3899</th>\n",
              "      <td>1000</td>\n",
              "      <td>0</td>\n",
              "      <td>1</td>\n",
              "      <td>1</td>\n",
              "      <td>1</td>\n",
              "      <td>0</td>\n",
              "      <td>0</td>\n",
              "      <td>0</td>\n",
              "      <td>0</td>\n",
              "      <td>1597</td>\n",
              "      <td>0</td>\n",
              "    </tr>\n",
              "  </tbody>\n",
              "</table>\n",
              "</div>\n",
              "      <button class=\"colab-df-convert\" onclick=\"convertToInteractive('df-924fe459-6b28-4ecf-a451-30c449cb645c')\"\n",
              "              title=\"Convert this dataframe to an interactive table.\"\n",
              "              style=\"display:none;\">\n",
              "        \n",
              "  <svg xmlns=\"http://www.w3.org/2000/svg\" height=\"24px\"viewBox=\"0 0 24 24\"\n",
              "       width=\"24px\">\n",
              "    <path d=\"M0 0h24v24H0V0z\" fill=\"none\"/>\n",
              "    <path d=\"M18.56 5.44l.94 2.06.94-2.06 2.06-.94-2.06-.94-.94-2.06-.94 2.06-2.06.94zm-11 1L8.5 8.5l.94-2.06 2.06-.94-2.06-.94L8.5 2.5l-.94 2.06-2.06.94zm10 10l.94 2.06.94-2.06 2.06-.94-2.06-.94-.94-2.06-.94 2.06-2.06.94z\"/><path d=\"M17.41 7.96l-1.37-1.37c-.4-.4-.92-.59-1.43-.59-.52 0-1.04.2-1.43.59L10.3 9.45l-7.72 7.72c-.78.78-.78 2.05 0 2.83L4 21.41c.39.39.9.59 1.41.59.51 0 1.02-.2 1.41-.59l7.78-7.78 2.81-2.81c.8-.78.8-2.07 0-2.86zM5.41 20L4 18.59l7.72-7.72 1.47 1.35L5.41 20z\"/>\n",
              "  </svg>\n",
              "      </button>\n",
              "      \n",
              "  <style>\n",
              "    .colab-df-container {\n",
              "      display:flex;\n",
              "      flex-wrap:wrap;\n",
              "      gap: 12px;\n",
              "    }\n",
              "\n",
              "    .colab-df-convert {\n",
              "      background-color: #E8F0FE;\n",
              "      border: none;\n",
              "      border-radius: 50%;\n",
              "      cursor: pointer;\n",
              "      display: none;\n",
              "      fill: #1967D2;\n",
              "      height: 32px;\n",
              "      padding: 0 0 0 0;\n",
              "      width: 32px;\n",
              "    }\n",
              "\n",
              "    .colab-df-convert:hover {\n",
              "      background-color: #E2EBFA;\n",
              "      box-shadow: 0px 1px 2px rgba(60, 64, 67, 0.3), 0px 1px 3px 1px rgba(60, 64, 67, 0.15);\n",
              "      fill: #174EA6;\n",
              "    }\n",
              "\n",
              "    [theme=dark] .colab-df-convert {\n",
              "      background-color: #3B4455;\n",
              "      fill: #D2E3FC;\n",
              "    }\n",
              "\n",
              "    [theme=dark] .colab-df-convert:hover {\n",
              "      background-color: #434B5C;\n",
              "      box-shadow: 0px 1px 3px 1px rgba(0, 0, 0, 0.15);\n",
              "      filter: drop-shadow(0px 1px 2px rgba(0, 0, 0, 0.3));\n",
              "      fill: #FFFFFF;\n",
              "    }\n",
              "  </style>\n",
              "\n",
              "      <script>\n",
              "        const buttonEl =\n",
              "          document.querySelector('#df-924fe459-6b28-4ecf-a451-30c449cb645c button.colab-df-convert');\n",
              "        buttonEl.style.display =\n",
              "          google.colab.kernel.accessAllowed ? 'block' : 'none';\n",
              "\n",
              "        async function convertToInteractive(key) {\n",
              "          const element = document.querySelector('#df-924fe459-6b28-4ecf-a451-30c449cb645c');\n",
              "          const dataTable =\n",
              "            await google.colab.kernel.invokeFunction('convertToInteractive',\n",
              "                                                     [key], {});\n",
              "          if (!dataTable) return;\n",
              "\n",
              "          const docLinkHtml = 'Like what you see? Visit the ' +\n",
              "            '<a target=\"_blank\" href=https://colab.research.google.com/notebooks/data_table.ipynb>data table notebook</a>'\n",
              "            + ' to learn more about interactive tables.';\n",
              "          element.innerHTML = '';\n",
              "          dataTable['output_type'] = 'display_data';\n",
              "          await google.colab.output.renderOutput(dataTable, element);\n",
              "          const docLink = document.createElement('div');\n",
              "          docLink.innerHTML = docLinkHtml;\n",
              "          element.appendChild(docLink);\n",
              "        }\n",
              "      </script>\n",
              "    </div>\n",
              "  </div>\n",
              "  "
            ]
          },
          "metadata": {},
          "execution_count": 14
        }
      ]
    },
    {
      "cell_type": "code",
      "source": [
        "data.isnull().sum()"
      ],
      "metadata": {
        "colab": {
          "base_uri": "https://localhost:8080/"
        },
        "id": "bG1RW61gU9IF",
        "outputId": "1217356b-84fc-4cb3-af7f-d410e0586067"
      },
      "execution_count": 15,
      "outputs": [
        {
          "output_type": "execute_result",
          "data": {
            "text/plain": [
              "Balance              0\n",
              "Qual_miles           0\n",
              "cc1_miles            0\n",
              "cc2_miles            0\n",
              "cc3_miles            0\n",
              "Bonus_miles          0\n",
              "Bonus_trans          0\n",
              "Flight_miles_12mo    0\n",
              "Flight_trans_12      0\n",
              "Days_since_enroll    0\n",
              "Award                0\n",
              "dtype: int64"
            ]
          },
          "metadata": {},
          "execution_count": 15
        }
      ]
    },
    {
      "cell_type": "code",
      "source": [
        "# data visualizing\n",
        "for feature in data.columns:\n",
        "    data=data.copy()\n",
        "    data[feature].hist(bins=25)\n",
        "    plt.ylabel('Count')\n",
        "    plt.title(feature)\n",
        "    plt.show()"
      ],
      "metadata": {
        "colab": {
          "base_uri": "https://localhost:8080/",
          "height": 1000
        },
        "id": "0ZyNmnurI4WS",
        "outputId": "7ab0e64f-9dea-48ba-e4c8-2f8bb1166f51"
      },
      "execution_count": 16,
      "outputs": [
        {
          "output_type": "display_data",
          "data": {
            "text/plain": [
              "<Figure size 576x396 with 1 Axes>"
            ],
            "image/png": "[encoded data removed]"
          },
          "metadata": {}
        },
        {
          "output_type": "display_data",
          "data": {
            "text/plain": [
              "<Figure size 576x396 with 1 Axes>"
            ],
            "image/png": "[encoded data removed]"
          },
          "metadata": {}
        },
        {
          "output_type": "display_data",
          "data": {
            "text/plain": [
              "<Figure size 576x396 with 1 Axes>"
            ],
            "image/png": "[encoded data removed]"
          },
          "metadata": {}
        },
        {
          "output_type": "display_data",
          "data": {
            "text/plain": [
              "<Figure size 576x396 with 1 Axes>"
            ],
            "image/png": "[encoded data removed]"
          },
          "metadata": {}
        },
        {
          "output_type": "display_data",
          "data": {
            "text/plain": [
              "<Figure size 576x396 with 1 Axes>"
            ],
            "image/png": "[encoded data removed]"
          },
          "metadata": {}
        },
        {
          "output_type": "display_data",
          "data": {
            "text/plain": [
              "<Figure size 576x396 with 1 Axes>"
            ],
            "image/png": "[encoded data removed]"
          },
          "metadata": {}
        },
        {
          "output_type": "display_data",
          "data": {
            "text/plain": [
              "<Figure size 576x396 with 1 Axes>"
            ],
            "image/png": "[encoded data removed]"
          },
          "metadata": {}
        },
        {
          "output_type": "display_data",
          "data": {
            "text/plain": [
              "<Figure size 576x396 with 1 Axes>"
            ],
            "image/png": "[encoded data removed]"
          },
          "metadata": {}
        },
        {
          "output_type": "display_data",
          "data": {
            "text/plain": [
              "<Figure size 576x396 with 1 Axes>"
            ],
            "image/png": "[encoded data removed]"
          },
          "metadata": {}
        },
        {
          "output_type": "display_data",
          "data": {
            "text/plain": [
              "<Figure size 576x396 with 1 Axes>"
            ],
            "image/png": "[encoded data removed]"
          },
          "metadata": {}
        },
        {
          "output_type": "display_data",
          "data": {
            "text/plain": [
              "<Figure size 576x396 with 1 Axes>"
            ],
            "image/png": "[encoded data removed]"
          },
          "metadata": {}
        }
      ]
    },
    {
      "cell_type": "code",
      "source": [
        "# data preprocessing\n",
        "standard_scaler = StandardScaler()\n",
        "std_data = standard_scaler.fit_transform(data)\n",
        "std_data.shape"
      ],
      "metadata": {
        "colab": {
          "base_uri": "https://localhost:8080/"
        },
        "id": "s36jJ1jnSWmj",
        "outputId": "090d2bcd-c962-4f34-dec6-341fb2c5ed05"
      },
      "execution_count": 17,
      "outputs": [
        {
          "output_type": "execute_result",
          "data": {
            "text/plain": [
              "(3999, 11)"
            ]
          },
          "metadata": {},
          "execution_count": 17
        }
      ]
    },
    {
      "cell_type": "code",
      "source": [
        "# Using Minmaxscaler for accuracy result comparison\n",
        "\n",
        "from sklearn.preprocessing import MinMaxScaler\n",
        "minmax = MinMaxScaler()\n",
        "\n",
        "minmax_df = minmax.fit_transform(data)\n",
        "minmax_df.shape"
      ],
      "metadata": {
        "colab": {
          "base_uri": "https://localhost:8080/"
        },
        "id": "8vvlmQTVJP4u",
        "outputId": "7409d40d-f6a6-4d48-a48a-af47001789bd"
      },
      "execution_count": 18,
      "outputs": [
        {
          "output_type": "execute_result",
          "data": {
            "text/plain": [
              "(3999, 11)"
            ]
          },
          "metadata": {},
          "execution_count": 18
        }
      ]
    },
    {
      "cell_type": "markdown",
      "source": [
        "# KMeans Clustering"
      ],
      "metadata": {
        "id": "5OrZUXtTJWLp"
      }
    },
    {
      "cell_type": "code",
      "source": [
        "cluster_range = range(1,15)\n",
        "cluster_errors = []\n",
        "for num_clusters in cluster_range:\n",
        "    clusters = KMeans(num_clusters,n_init=10)\n",
        "    clusters.fit(std_data)\n",
        "    labels = clusters.labels_\n",
        "    centroids = clusters.cluster_centers_\n",
        "    cluster_errors.append(clusters.inertia_)\n",
        "clusters_df = pd.DataFrame({\"num_clusters\":cluster_range,\"cluster_errors\":cluster_errors})\n",
        "clusters_df"
      ],
      "metadata": {
        "colab": {
          "base_uri": "https://localhost:8080/",
          "height": 488
        },
        "id": "cVUZtXHIJVG7",
        "outputId": "a0025c48-66d6-4a66-dce1-96042bff6752"
      },
      "execution_count": 19,
      "outputs": [
        {
          "output_type": "execute_result",
          "data": {
            "text/plain": [
              "    num_clusters  cluster_errors\n",
              "0   1             43989.000000  \n",
              "1   2             35409.516630  \n",
              "2   3             30899.271222  \n",
              "3   4             27154.331169  \n",
              "4   5             23700.510453  \n",
              "5   6             21756.926621  \n",
              "6   7             20094.218457  \n",
              "7   8             17316.753604  \n",
              "8   9             15960.767744  \n",
              "9   10            14730.611178  \n",
              "10  11            13705.585345  \n",
              "11  12            12946.785539  \n",
              "12  13            12424.561544  \n",
              "13  14            11976.438147  "
            ],
            "text/html": [
              "\n",
              "  <div id=\"df-89fbc222-4b0d-4c50-8011-21c0df7b2c18\">\n",
              "    <div class=\"colab-df-container\">\n",
              "      <div>\n",
              "<style scoped>\n",
              "    .dataframe tbody tr th:only-of-type {\n",
              "        vertical-align: middle;\n",
              "    }\n",
              "\n",
              "    .dataframe tbody tr th {\n",
              "        vertical-align: top;\n",
              "    }\n",
              "\n",
              "    .dataframe thead th {\n",
              "        text-align: right;\n",
              "    }\n",
              "</style>\n",
              "<table border=\"1\" class=\"dataframe\">\n",
              "  <thead>\n",
              "    <tr style=\"text-align: right;\">\n",
              "      <th></th>\n",
              "      <th>num_clusters</th>\n",
              "      <th>cluster_errors</th>\n",
              "    </tr>\n",
              "  </thead>\n",
              "  <tbody>\n",
              "    <tr>\n",
              "      <th>0</th>\n",
              "      <td>1</td>\n",
              "      <td>43989.000000</td>\n",
              "    </tr>\n",
              "    <tr>\n",
              "      <th>1</th>\n",
              "      <td>2</td>\n",
              "      <td>35409.516630</td>\n",
              "    </tr>\n",
              "    <tr>\n",
              "      <th>2</th>\n",
              "      <td>3</td>\n",
              "      <td>30899.271222</td>\n",
              "    </tr>\n",
              "    <tr>\n",
              "      <th>3</th>\n",
              "      <td>4</td>\n",
              "      <td>27154.331169</td>\n",
              "    </tr>\n",
              "    <tr>\n",
              "      <th>4</th>\n",
              "      <td>5</td>\n",
              "      <td>23700.510453</td>\n",
              "    </tr>\n",
              "    <tr>\n",
              "      <th>5</th>\n",
              "      <td>6</td>\n",
              "      <td>21756.926621</td>\n",
              "    </tr>\n",
              "    <tr>\n",
              "      <th>6</th>\n",
              "      <td>7</td>\n",
              "      <td>20094.218457</td>\n",
              "    </tr>\n",
              "    <tr>\n",
              "      <th>7</th>\n",
              "      <td>8</td>\n",
              "      <td>17316.753604</td>\n",
              "    </tr>\n",
              "    <tr>\n",
              "      <th>8</th>\n",
              "      <td>9</td>\n",
              "      <td>15960.767744</td>\n",
              "    </tr>\n",
              "    <tr>\n",
              "      <th>9</th>\n",
              "      <td>10</td>\n",
              "      <td>14730.611178</td>\n",
              "    </tr>\n",
              "    <tr>\n",
              "      <th>10</th>\n",
              "      <td>11</td>\n",
              "      <td>13705.585345</td>\n",
              "    </tr>\n",
              "    <tr>\n",
              "      <th>11</th>\n",
              "      <td>12</td>\n",
              "      <td>12946.785539</td>\n",
              "    </tr>\n",
              "    <tr>\n",
              "      <th>12</th>\n",
              "      <td>13</td>\n",
              "      <td>12424.561544</td>\n",
              "    </tr>\n",
              "    <tr>\n",
              "      <th>13</th>\n",
              "      <td>14</td>\n",
              "      <td>11976.438147</td>\n",
              "    </tr>\n",
              "  </tbody>\n",
              "</table>\n",
              "</div>\n",
              "      <button class=\"colab-df-convert\" onclick=\"convertToInteractive('df-89fbc222-4b0d-4c50-8011-21c0df7b2c18')\"\n",
              "              title=\"Convert this dataframe to an interactive table.\"\n",
              "              style=\"display:none;\">\n",
              "        \n",
              "  <svg xmlns=\"http://www.w3.org/2000/svg\" height=\"24px\"viewBox=\"0 0 24 24\"\n",
              "       width=\"24px\">\n",
              "    <path d=\"M0 0h24v24H0V0z\" fill=\"none\"/>\n",
              "    <path d=\"M18.56 5.44l.94 2.06.94-2.06 2.06-.94-2.06-.94-.94-2.06-.94 2.06-2.06.94zm-11 1L8.5 8.5l.94-2.06 2.06-.94-2.06-.94L8.5 2.5l-.94 2.06-2.06.94zm10 10l.94 2.06.94-2.06 2.06-.94-2.06-.94-.94-2.06-.94 2.06-2.06.94z\"/><path d=\"M17.41 7.96l-1.37-1.37c-.4-.4-.92-.59-1.43-.59-.52 0-1.04.2-1.43.59L10.3 9.45l-7.72 7.72c-.78.78-.78 2.05 0 2.83L4 21.41c.39.39.9.59 1.41.59.51 0 1.02-.2 1.41-.59l7.78-7.78 2.81-2.81c.8-.78.8-2.07 0-2.86zM5.41 20L4 18.59l7.72-7.72 1.47 1.35L5.41 20z\"/>\n",
              "  </svg>\n",
              "      </button>\n",
              "      \n",
              "  <style>\n",
              "    .colab-df-container {\n",
              "      display:flex;\n",
              "      flex-wrap:wrap;\n",
              "      gap: 12px;\n",
              "    }\n",
              "\n",
              "    .colab-df-convert {\n",
              "      background-color: #E8F0FE;\n",
              "      border: none;\n",
              "      border-radius: 50%;\n",
              "      cursor: pointer;\n",
              "      display: none;\n",
              "      fill: #1967D2;\n",
              "      height: 32px;\n",
              "      padding: 0 0 0 0;\n",
              "      width: 32px;\n",
              "    }\n",
              "\n",
              "    .colab-df-convert:hover {\n",
              "      background-color: #E2EBFA;\n",
              "      box-shadow: 0px 1px 2px rgba(60, 64, 67, 0.3), 0px 1px 3px 1px rgba(60, 64, 67, 0.15);\n",
              "      fill: #174EA6;\n",
              "    }\n",
              "\n",
              "    [theme=dark] .colab-df-convert {\n",
              "      background-color: #3B4455;\n",
              "      fill: #D2E3FC;\n",
              "    }\n",
              "\n",
              "    [theme=dark] .colab-df-convert:hover {\n",
              "      background-color: #434B5C;\n",
              "      box-shadow: 0px 1px 3px 1px rgba(0, 0, 0, 0.15);\n",
              "      filter: drop-shadow(0px 1px 2px rgba(0, 0, 0, 0.3));\n",
              "      fill: #FFFFFF;\n",
              "    }\n",
              "  </style>\n",
              "\n",
              "      <script>\n",
              "        const buttonEl =\n",
              "          document.querySelector('#df-89fbc222-4b0d-4c50-8011-21c0df7b2c18 button.colab-df-convert');\n",
              "        buttonEl.style.display =\n",
              "          google.colab.kernel.accessAllowed ? 'block' : 'none';\n",
              "\n",
              "        async function convertToInteractive(key) {\n",
              "          const element = document.querySelector('#df-89fbc222-4b0d-4c50-8011-21c0df7b2c18');\n",
              "          const dataTable =\n",
              "            await google.colab.kernel.invokeFunction('convertToInteractive',\n",
              "                                                     [key], {});\n",
              "          if (!dataTable) return;\n",
              "\n",
              "          const docLinkHtml = 'Like what you see? Visit the ' +\n",
              "            '<a target=\"_blank\" href=https://colab.research.google.com/notebooks/data_table.ipynb>data table notebook</a>'\n",
              "            + ' to learn more about interactive tables.';\n",
              "          element.innerHTML = '';\n",
              "          dataTable['output_type'] = 'display_data';\n",
              "          await google.colab.output.renderOutput(dataTable, element);\n",
              "          const docLink = document.createElement('div');\n",
              "          docLink.innerHTML = docLinkHtml;\n",
              "          element.appendChild(docLink);\n",
              "        }\n",
              "      </script>\n",
              "    </div>\n",
              "  </div>\n",
              "  "
            ]
          },
          "metadata": {},
          "execution_count": 19
        }
      ]
    },
    {
      "cell_type": "code",
      "source": [
        "wcss=[]\n",
        "for i in range(1,9):\n",
        "    kmeans=KMeans(n_clusters=i,random_state=2)\n",
        "    kmeans.fit(data)\n",
        "    wcss.append(kmeans.inertia_)\n",
        " "
      ],
      "metadata": {
        "id": "cVk2oN3FRgsm"
      },
      "execution_count": 20,
      "outputs": []
    },
    {
      "cell_type": "code",
      "source": [
        "wcss=[]\n",
        "for i in range(1,9):\n",
        "    kmeans=KMeans(n_clusters=i,random_state=2)\n",
        "    kmeans.fit(data)\n",
        "    wcss.append(kmeans.inertia_)\n",
        "    \n",
        "# Plot K values range vs WCSS to get Elbow graph for choosing K (no. of clusters)\n",
        "plt.plot(range(1,9),wcss,color = 'black')\n",
        "plt.scatter(range(1,9),wcss,color='red')\n",
        "plt.title('Elbow Graph for Standard Scaler')\n",
        "plt.xlabel('Number of clusters')\n",
        "plt.ylabel('WCSS')\n",
        "plt.show()"
      ],
      "metadata": {
        "colab": {
          "base_uri": "https://localhost:8080/",
          "height": 376
        },
        "id": "drdp7eKHR7IE",
        "outputId": "937e6d66-8c34-49a1-cca0-677e5b760f88"
      },
      "execution_count": 21,
      "outputs": [
        {
          "output_type": "display_data",
          "data": {
            "text/plain": [
              "<Figure size 576x396 with 1 Axes>"
            ],
            "image/png": "[encoded data removed]"
          },
          "metadata": {}
        }
      ]
    },
    {
      "cell_type": "markdown",
      "source": [
        "#There is no clear \"elbow\" visible. A choice of 3 or 4 clusters seems to be fair. Let's see the silhouette score"
      ],
      "metadata": {
        "id": "MGiGY1HWJuaG"
      }
    },
    {
      "cell_type": "code",
      "source": [
        "from sklearn.metrics import silhouette_score\n",
        "n_clusters = [2,3,4,5,6,7,8,9,10] # number of clusters\n",
        "clusters_inertia = [] # inertia of clusters\n",
        "s_scores = [] # silhouette scores\n",
        "\n",
        "for n in n_clusters:\n",
        "    KM_est = KMeans(n_clusters=n, init='k-means++').fit(std_data)\n",
        "    clusters_inertia.append(KM_est.inertia_)    # data for the elbow method\n",
        "    silhouette_avg = silhouette_score(std_data, KM_est.labels_)\n",
        "    s_scores.append(silhouette_avg) # data for the silhouette score method"
      ],
      "metadata": {
        "id": "QjTsZg_kSK4C"
      },
      "execution_count": 82,
      "outputs": []
    },
    {
      "cell_type": "code",
      "source": [
        "fig, ax = plt.subplots(figsize=(12,5))\n",
        "ax = sns.lineplot(n_clusters, s_scores, marker='o', ax=ax)\n",
        "ax.set_title(\"Silhouette score method\")\n",
        "ax.set_xlabel(\"number of clusters\")\n",
        "ax.set_ylabel(\"Silhouette score\")\n",
        "ax.axvline(2, ls=\"--\", c=\"red\")\n",
        "plt.grid()\n",
        "plt.show()"
      ],
      "metadata": {
        "colab": {
          "base_uri": "https://localhost:8080/",
          "height": 404
        },
        "id": "UcWNx4-2LEu3",
        "outputId": "efc58ef8-1ece-4ca9-9f3f-791e9fb901c5"
      },
      "execution_count": 83,
      "outputs": [
        {
          "output_type": "stream",
          "name": "stderr",
          "text": [
            "/usr/local/lib/python3.7/dist-packages/seaborn/_decorators.py:43: FutureWarning: Pass the following variables as keyword args: x, y. From version 0.12, the only valid positional argument will be `data`, and passing other arguments without an explicit keyword will result in an error or misinterpretation.\n",
            "  FutureWarning\n"
          ]
        },
        {
          "output_type": "display_data",
          "data": {
            "text/plain": [
              "<Figure size 864x360 with 1 Axes>"
            ],
            "image/png": "[encoded data removed]"
          },
          "metadata": {}
        }
      ]
    },
    {
      "cell_type": "code",
      "source": [
        "# 1. How many number of clusters? n_clusters?\n",
        "\n",
        "# Since true labels are not known..we will use Silhouette Coefficient (Clustering performance evaluation)\n",
        "# knee Elbow graph method\n",
        "\n",
        "\n",
        "# Instantiate a scikit-learn K-Means model. we will check for two diff hyperparameters value effect.\n",
        "model = KMeans(random_state=10, max_iter=500, init='k-means++')\n",
        "\n",
        "# Instantiate the KElbowVisualizer with the number of clusters and the metric\n",
        "visualizer = KElbowVisualizer(model, k=(2,20), metric='silhouette', timings=False)\n",
        "# Fit the data and visualize\n",
        "print('Elbow Plot for Standard Scaler data')\n",
        "visualizer.fit(std_data)    \n",
        "visualizer.poof()\n",
        "plt.show()"
      ],
      "metadata": {
        "colab": {
          "base_uri": "https://localhost:8080/",
          "height": 393
        },
        "id": "42m1nISDLbhP",
        "outputId": "a2fc4772-efa7-4111-e5f4-42d75a2999a3"
      },
      "execution_count": 84,
      "outputs": [
        {
          "output_type": "stream",
          "name": "stdout",
          "text": [
            "Elbow Plot for Standard Scaler data\n"
          ]
        },
        {
          "output_type": "display_data",
          "data": {
            "text/plain": [
              "<Figure size 576x396 with 1 Axes>"
            ],
            "image/png": "[encoded data removed]"
          },
          "metadata": {}
        }
      ]
    },
    {
      "cell_type": "code",
      "source": [
        "# With the elbow method, the ideal number of clusters to use was 6.\n",
        "# We will also use the Silhouette score to determine an optimal number.\n",
        "\n",
        "clust_list = [2,3,4,5,6,7,8,9]\n",
        "\n",
        "#  Silhouette score for stadardScaler applied on data.\n",
        "\n",
        "for n_clusters in clust_list:\n",
        "    clusterer1 = KMeans(n_clusters=n_clusters, random_state=0)\n",
        "    cluster_labels1 = clusterer1.fit_predict(std_data)\n",
        "    sil_score1= sil(std_data, cluster_labels1)\n",
        "    print(\"For n_clusters =\", n_clusters,\"The average silhouette_score is :\", sil_score1)"
      ],
      "metadata": {
        "colab": {
          "base_uri": "https://localhost:8080/"
        },
        "id": "bELG7OfDNPbq",
        "outputId": "d5b54fce-bdd7-4655-fa98-ce93b8e48387"
      },
      "execution_count": 85,
      "outputs": [
        {
          "output_type": "stream",
          "name": "stdout",
          "text": [
            "For n_clusters = 2 The average silhouette_score is : 0.3256981835090824\n",
            "For n_clusters = 3 The average silhouette_score is : 0.3121716765282414\n",
            "For n_clusters = 4 The average silhouette_score is : 0.32563311512799126\n",
            "For n_clusters = 5 The average silhouette_score is : 0.31819537664378844\n",
            "For n_clusters = 6 The average silhouette_score is : 0.3338735662323181\n",
            "For n_clusters = 7 The average silhouette_score is : 0.22085896619040385\n",
            "For n_clusters = 8 The average silhouette_score is : 0.23657639934232003\n",
            "For n_clusters = 9 The average silhouette_score is : 0.2984364654012059\n"
          ]
        }
      ]
    },
    {
      "cell_type": "code",
      "source": [
        "# we have found good number of cluster = 6\n",
        "# model building using cluster numbers = 6\n",
        "\n",
        "model_kmeans = KMeans(n_clusters=6, random_state=0, init='k-means++')\n",
        "y_predict_kmeans = model_kmeans.fit_predict(std_data)\n",
        "y_predict_kmeans.shape"
      ],
      "metadata": {
        "colab": {
          "base_uri": "https://localhost:8080/"
        },
        "id": "RC9IWq-5OUMz",
        "outputId": "d9335c4b-0485-4d3c-c6c5-12832bc3957c"
      },
      "execution_count": 86,
      "outputs": [
        {
          "output_type": "execute_result",
          "data": {
            "text/plain": [
              "(3999,)"
            ]
          },
          "metadata": {},
          "execution_count": 86
        }
      ]
    },
    {
      "cell_type": "code",
      "source": [
        "# these are nothing but cluster labels...\n",
        "\n",
        "y_predict_kmeans"
      ],
      "metadata": {
        "colab": {
          "base_uri": "https://localhost:8080/"
        },
        "id": "cyGm-J-yPayo",
        "outputId": "cb2a55d8-435d-4556-8d40-46478bf1673b"
      },
      "execution_count": 87,
      "outputs": [
        {
          "output_type": "execute_result",
          "data": {
            "text/plain": [
              "array([2, 2, 2, ..., 1, 2, 2], dtype=int32)"
            ]
          },
          "metadata": {},
          "execution_count": 87
        }
      ]
    },
    {
      "cell_type": "code",
      "source": [
        "model_kmeans.labels_"
      ],
      "metadata": {
        "colab": {
          "base_uri": "https://localhost:8080/"
        },
        "id": "r30qlW0sPtx4",
        "outputId": "21b61769-912d-4a99-a048-c9b8b3aa41c9"
      },
      "execution_count": 88,
      "outputs": [
        {
          "output_type": "execute_result",
          "data": {
            "text/plain": [
              "array([2, 2, 2, ..., 1, 2, 2], dtype=int32)"
            ]
          },
          "metadata": {},
          "execution_count": 88
        }
      ]
    },
    {
      "cell_type": "code",
      "source": [
        "# cluster centres associated with each lables\n",
        "\n",
        "model_kmeans.cluster_centers_"
      ],
      "metadata": {
        "colab": {
          "base_uri": "https://localhost:8080/"
        },
        "id": "bYimGDldPwV5",
        "outputId": "f411123f-9ea6-4cc8-c055-8e54e244e260"
      },
      "execution_count": 89,
      "outputs": [
        {
          "output_type": "execute_result",
          "data": {
            "text/plain": [
              "array([[ 1.13686833,  0.4142613 ,  0.1345493 , -0.09824189, -0.06276658,\n",
              "         0.65640088,  1.70548646,  3.77107713,  4.00212558,  0.27153799,\n",
              "         0.88395812],\n",
              "       [ 0.43381284, -0.11301262,  1.21014978, -0.09824189, -0.05449778,\n",
              "         0.92813517,  0.75269133, -0.08065818, -0.08956555,  0.37079373,\n",
              "         0.57854007],\n",
              "       [-0.29444721, -0.12883455, -0.60151188, -0.09824189, -0.06071593,\n",
              "        -0.51682757, -0.4934919 , -0.18636264, -0.19845942, -0.19791068,\n",
              "        -0.34993321],\n",
              "       [-0.04688966, -0.1562356 , -0.66822727,  9.03825361, -0.06276658,\n",
              "        -0.10166533,  0.61785114,  0.0875494 ,  0.22034681, -0.07246398,\n",
              "         0.05178388],\n",
              "       [ 0.63971926, -0.08443292,  1.0220844 , -0.09824189, 15.64629931,\n",
              "         3.17969131,  1.71461374,  0.03329269,  0.05969539,  0.23987261,\n",
              "         0.33752735],\n",
              "       [ 0.45710365,  6.73109194, -0.04322862, -0.09824189, -0.06276658,\n",
              "         0.06371677,  0.06535804,  0.3596938 ,  0.39424679, -0.07122344,\n",
              "         0.38731797]])"
            ]
          },
          "metadata": {},
          "execution_count": 89
        }
      ]
    },
    {
      "cell_type": "code",
      "source": [
        "# within-cluster sum of squared\n",
        "\n",
        "# The lower values of inertia are better and zero is optimal.\n",
        "# Inertia is the sum of squared error for each cluster. \n",
        "# Therefore the smaller the inertia the denser the cluster(closer together all the points are)\n",
        "\n",
        "model_kmeans.inertia_"
      ],
      "metadata": {
        "colab": {
          "base_uri": "https://localhost:8080/"
        },
        "id": "hzfofwsVP15p",
        "outputId": "d83cde82-5b54-457d-df4a-18472b817eaa"
      },
      "execution_count": 90,
      "outputs": [
        {
          "output_type": "execute_result",
          "data": {
            "text/plain": [
              "21089.973628929638"
            ]
          },
          "metadata": {},
          "execution_count": 90
        }
      ]
    },
    {
      "cell_type": "code",
      "source": [
        "#Assign clusters to the data set\n",
        "df = pd.read_excel('EastWestAirlines.xlsx', sheet_name='data')\n",
        "df.rename({'ID#':'ID', 'Award?':'Award'}, inplace=True, axis=1)\n",
        "df['Kmeans_label'] = model_kmeans.labels_"
      ],
      "metadata": {
        "id": "KQq4AiGLP5jQ"
      },
      "execution_count": 91,
      "outputs": []
    },
    {
      "cell_type": "code",
      "source": [
        "# Group data by Clusters (K=6)\n",
        "df.groupby('Kmeans_label').agg(['mean'])"
      ],
      "metadata": {
        "colab": {
          "base_uri": "https://localhost:8080/",
          "height": 364
        },
        "id": "HUGlwpHmP7-E",
        "outputId": "5b67529b-edf1-4771-fb55-e805648197b5"
      },
      "execution_count": 92,
      "outputs": [
        {
          "output_type": "execute_result",
          "data": {
            "text/plain": [
              "                       ID        Balance   Qual_miles cc1_miles cc2_miles  \\\n",
              "                     mean           mean         mean      mean      mean   \n",
              "Kmeans_label                                                                \n",
              "0             1743.867133  188155.664336  464.573427   2.244755  1.000000   \n",
              "1             1599.831858  117176.916331  58.446500    3.720837  1.000000   \n",
              "2             2233.860465  43882.372895   43.558140    1.229751  1.000000   \n",
              "3             2269.372093  68876.581395   23.255814    1.139535  2.348837   \n",
              "4             1664.866667  138061.400000  78.800000    3.466667  1.000000   \n",
              "5             2057.295082  119660.491803  5351.065574  2.000000  1.000000   \n",
              "\n",
              "             cc3_miles   Bonus_miles Bonus_trans Flight_miles_12mo  \\\n",
              "                  mean          mean        mean              mean   \n",
              "Kmeans_label                                                         \n",
              "0             1.000000  32995.580420  27.979021   5739.692308        \n",
              "1             1.001609  39485.872084  18.811746   346.617860         \n",
              "2             1.000401  4644.210104   6.852847    199.160385         \n",
              "3             1.000000  14689.837209  17.534884   582.627907         \n",
              "4             4.066667  93927.866667  28.066667   506.666667         \n",
              "5             1.000000  18683.475410  12.229508   963.639344         \n",
              "\n",
              "             Flight_trans_12 Days_since_enroll     Award  \n",
              "                        mean              mean      mean  \n",
              "Kmeans_label                                              \n",
              "0             16.552448       4679.251748       0.797203  \n",
              "1             1.032180        4887.485921       0.649236  \n",
              "2             0.621091        3706.378508       0.200882  \n",
              "3             2.209302        3968.930233       0.395349  \n",
              "4             1.600000        4613.866667       0.533333  \n",
              "5             2.868852        3971.491803       0.557377  "
            ],
            "text/html": [
              "\n",
              "  <div id=\"df-16957fbd-a2ba-4ea1-a149-5cfed97a13c2\">\n",
              "    <div class=\"colab-df-container\">\n",
              "      <div>\n",
              "<style scoped>\n",
              "    .dataframe tbody tr th:only-of-type {\n",
              "        vertical-align: middle;\n",
              "    }\n",
              "\n",
              "    .dataframe tbody tr th {\n",
              "        vertical-align: top;\n",
              "    }\n",
              "\n",
              "    .dataframe thead tr th {\n",
              "        text-align: left;\n",
              "    }\n",
              "\n",
              "    .dataframe thead tr:last-of-type th {\n",
              "        text-align: right;\n",
              "    }\n",
              "</style>\n",
              "<table border=\"1\" class=\"dataframe\">\n",
              "  <thead>\n",
              "    <tr>\n",
              "      <th></th>\n",
              "      <th>ID</th>\n",
              "      <th>Balance</th>\n",
              "      <th>Qual_miles</th>\n",
              "      <th>cc1_miles</th>\n",
              "      <th>cc2_miles</th>\n",
              "      <th>cc3_miles</th>\n",
              "      <th>Bonus_miles</th>\n",
              "      <th>Bonus_trans</th>\n",
              "      <th>Flight_miles_12mo</th>\n",
              "      <th>Flight_trans_12</th>\n",
              "      <th>Days_since_enroll</th>\n",
              "      <th>Award</th>\n",
              "    </tr>\n",
              "    <tr>\n",
              "      <th></th>\n",
              "      <th>mean</th>\n",
              "      <th>mean</th>\n",
              "      <th>mean</th>\n",
              "      <th>mean</th>\n",
              "      <th>mean</th>\n",
              "      <th>mean</th>\n",
              "      <th>mean</th>\n",
              "      <th>mean</th>\n",
              "      <th>mean</th>\n",
              "      <th>mean</th>\n",
              "      <th>mean</th>\n",
              "      <th>mean</th>\n",
              "    </tr>\n",
              "    <tr>\n",
              "      <th>Kmeans_label</th>\n",
              "      <th></th>\n",
              "      <th></th>\n",
              "      <th></th>\n",
              "      <th></th>\n",
              "      <th></th>\n",
              "      <th></th>\n",
              "      <th></th>\n",
              "      <th></th>\n",
              "      <th></th>\n",
              "      <th></th>\n",
              "      <th></th>\n",
              "      <th></th>\n",
              "    </tr>\n",
              "  </thead>\n",
              "  <tbody>\n",
              "    <tr>\n",
              "      <th>0</th>\n",
              "      <td>1743.867133</td>\n",
              "      <td>188155.664336</td>\n",
              "      <td>464.573427</td>\n",
              "      <td>2.244755</td>\n",
              "      <td>1.000000</td>\n",
              "      <td>1.000000</td>\n",
              "      <td>32995.580420</td>\n",
              "      <td>27.979021</td>\n",
              "      <td>5739.692308</td>\n",
              "      <td>16.552448</td>\n",
              "      <td>4679.251748</td>\n",
              "      <td>0.797203</td>\n",
              "    </tr>\n",
              "    <tr>\n",
              "      <th>1</th>\n",
              "      <td>1599.831858</td>\n",
              "      <td>117176.916331</td>\n",
              "      <td>58.446500</td>\n",
              "      <td>3.720837</td>\n",
              "      <td>1.000000</td>\n",
              "      <td>1.001609</td>\n",
              "      <td>39485.872084</td>\n",
              "      <td>18.811746</td>\n",
              "      <td>346.617860</td>\n",
              "      <td>1.032180</td>\n",
              "      <td>4887.485921</td>\n",
              "      <td>0.649236</td>\n",
              "    </tr>\n",
              "    <tr>\n",
              "      <th>2</th>\n",
              "      <td>2233.860465</td>\n",
              "      <td>43882.372895</td>\n",
              "      <td>43.558140</td>\n",
              "      <td>1.229751</td>\n",
              "      <td>1.000000</td>\n",
              "      <td>1.000401</td>\n",
              "      <td>4644.210104</td>\n",
              "      <td>6.852847</td>\n",
              "      <td>199.160385</td>\n",
              "      <td>0.621091</td>\n",
              "      <td>3706.378508</td>\n",
              "      <td>0.200882</td>\n",
              "    </tr>\n",
              "    <tr>\n",
              "      <th>3</th>\n",
              "      <td>2269.372093</td>\n",
              "      <td>68876.581395</td>\n",
              "      <td>23.255814</td>\n",
              "      <td>1.139535</td>\n",
              "      <td>2.348837</td>\n",
              "      <td>1.000000</td>\n",
              "      <td>14689.837209</td>\n",
              "      <td>17.534884</td>\n",
              "      <td>582.627907</td>\n",
              "      <td>2.209302</td>\n",
              "      <td>3968.930233</td>\n",
              "      <td>0.395349</td>\n",
              "    </tr>\n",
              "    <tr>\n",
              "      <th>4</th>\n",
              "      <td>1664.866667</td>\n",
              "      <td>138061.400000</td>\n",
              "      <td>78.800000</td>\n",
              "      <td>3.466667</td>\n",
              "      <td>1.000000</td>\n",
              "      <td>4.066667</td>\n",
              "      <td>93927.866667</td>\n",
              "      <td>28.066667</td>\n",
              "      <td>506.666667</td>\n",
              "      <td>1.600000</td>\n",
              "      <td>4613.866667</td>\n",
              "      <td>0.533333</td>\n",
              "    </tr>\n",
              "    <tr>\n",
              "      <th>5</th>\n",
              "      <td>2057.295082</td>\n",
              "      <td>119660.491803</td>\n",
              "      <td>5351.065574</td>\n",
              "      <td>2.000000</td>\n",
              "      <td>1.000000</td>\n",
              "      <td>1.000000</td>\n",
              "      <td>18683.475410</td>\n",
              "      <td>12.229508</td>\n",
              "      <td>963.639344</td>\n",
              "      <td>2.868852</td>\n",
              "      <td>3971.491803</td>\n",
              "      <td>0.557377</td>\n",
              "    </tr>\n",
              "  </tbody>\n",
              "</table>\n",
              "</div>\n",
              "      <button class=\"colab-df-convert\" onclick=\"convertToInteractive('df-16957fbd-a2ba-4ea1-a149-5cfed97a13c2')\"\n",
              "              title=\"Convert this dataframe to an interactive table.\"\n",
              "              style=\"display:none;\">\n",
              "        \n",
              "  <svg xmlns=\"http://www.w3.org/2000/svg\" height=\"24px\"viewBox=\"0 0 24 24\"\n",
              "       width=\"24px\">\n",
              "    <path d=\"M0 0h24v24H0V0z\" fill=\"none\"/>\n",
              "    <path d=\"M18.56 5.44l.94 2.06.94-2.06 2.06-.94-2.06-.94-.94-2.06-.94 2.06-2.06.94zm-11 1L8.5 8.5l.94-2.06 2.06-.94-2.06-.94L8.5 2.5l-.94 2.06-2.06.94zm10 10l.94 2.06.94-2.06 2.06-.94-2.06-.94-.94-2.06-.94 2.06-2.06.94z\"/><path d=\"M17.41 7.96l-1.37-1.37c-.4-.4-.92-.59-1.43-.59-.52 0-1.04.2-1.43.59L10.3 9.45l-7.72 7.72c-.78.78-.78 2.05 0 2.83L4 21.41c.39.39.9.59 1.41.59.51 0 1.02-.2 1.41-.59l7.78-7.78 2.81-2.81c.8-.78.8-2.07 0-2.86zM5.41 20L4 18.59l7.72-7.72 1.47 1.35L5.41 20z\"/>\n",
              "  </svg>\n",
              "      </button>\n",
              "      \n",
              "  <style>\n",
              "    .colab-df-container {\n",
              "      display:flex;\n",
              "      flex-wrap:wrap;\n",
              "      gap: 12px;\n",
              "    }\n",
              "\n",
              "    .colab-df-convert {\n",
              "      background-color: #E8F0FE;\n",
              "      border: none;\n",
              "      border-radius: 50%;\n",
              "      cursor: pointer;\n",
              "      display: none;\n",
              "      fill: #1967D2;\n",
              "      height: 32px;\n",
              "      padding: 0 0 0 0;\n",
              "      width: 32px;\n",
              "    }\n",
              "\n",
              "    .colab-df-convert:hover {\n",
              "      background-color: #E2EBFA;\n",
              "      box-shadow: 0px 1px 2px rgba(60, 64, 67, 0.3), 0px 1px 3px 1px rgba(60, 64, 67, 0.15);\n",
              "      fill: #174EA6;\n",
              "    }\n",
              "\n",
              "    [theme=dark] .colab-df-convert {\n",
              "      background-color: #3B4455;\n",
              "      fill: #D2E3FC;\n",
              "    }\n",
              "\n",
              "    [theme=dark] .colab-df-convert:hover {\n",
              "      background-color: #434B5C;\n",
              "      box-shadow: 0px 1px 3px 1px rgba(0, 0, 0, 0.15);\n",
              "      filter: drop-shadow(0px 1px 2px rgba(0, 0, 0, 0.3));\n",
              "      fill: #FFFFFF;\n",
              "    }\n",
              "  </style>\n",
              "\n",
              "      <script>\n",
              "        const buttonEl =\n",
              "          document.querySelector('#df-16957fbd-a2ba-4ea1-a149-5cfed97a13c2 button.colab-df-convert');\n",
              "        buttonEl.style.display =\n",
              "          google.colab.kernel.accessAllowed ? 'block' : 'none';\n",
              "\n",
              "        async function convertToInteractive(key) {\n",
              "          const element = document.querySelector('#df-16957fbd-a2ba-4ea1-a149-5cfed97a13c2');\n",
              "          const dataTable =\n",
              "            await google.colab.kernel.invokeFunction('convertToInteractive',\n",
              "                                                     [key], {});\n",
              "          if (!dataTable) return;\n",
              "\n",
              "          const docLinkHtml = 'Like what you see? Visit the ' +\n",
              "            '<a target=\"_blank\" href=https://colab.research.google.com/notebooks/data_table.ipynb>data table notebook</a>'\n",
              "            + ' to learn more about interactive tables.';\n",
              "          element.innerHTML = '';\n",
              "          dataTable['output_type'] = 'display_data';\n",
              "          await google.colab.output.renderOutput(dataTable, element);\n",
              "          const docLink = document.createElement('div');\n",
              "          docLink.innerHTML = docLinkHtml;\n",
              "          element.appendChild(docLink);\n",
              "        }\n",
              "      </script>\n",
              "    </div>\n",
              "  </div>\n",
              "  "
            ]
          },
          "metadata": {},
          "execution_count": 92
        }
      ]
    },
    {
      "cell_type": "code",
      "source": [
        "# Build KMeans Cluster algorithm using K=2 and MinMaxScaler Applied Dataset\n",
        "\n",
        "\n",
        "# we have found good number of cluster = 2\n",
        "# model building using cluster numbers = 2\n",
        "\n",
        "model_kmeans = KMeans(n_clusters=2, random_state=0, init='k-means++')\n",
        "y_predict_kmeans = model_kmeans.fit_predict(minmax_df)\n",
        "y_predict_kmeans.shape"
      ],
      "metadata": {
        "colab": {
          "base_uri": "https://localhost:8080/"
        },
        "id": "idaMe8X4P-F_",
        "outputId": "1db91058-ad8d-42fd-fddf-4fedf7f4967a"
      },
      "execution_count": 93,
      "outputs": [
        {
          "output_type": "execute_result",
          "data": {
            "text/plain": [
              "(3999,)"
            ]
          },
          "metadata": {},
          "execution_count": 93
        }
      ]
    },
    {
      "cell_type": "code",
      "source": [
        "# these are nothing but cluster labels...\n",
        "\n",
        "y_predict_kmeans"
      ],
      "metadata": {
        "colab": {
          "base_uri": "https://localhost:8080/"
        },
        "id": "Zy7PthyNQLBK",
        "outputId": "424bcac6-165f-4ef8-9888-94700bb401f1"
      },
      "execution_count": 94,
      "outputs": [
        {
          "output_type": "execute_result",
          "data": {
            "text/plain": [
              "array([1, 1, 1, ..., 0, 1, 1], dtype=int32)"
            ]
          },
          "metadata": {},
          "execution_count": 94
        }
      ]
    },
    {
      "cell_type": "code",
      "source": [
        "model_kmeans.labels_"
      ],
      "metadata": {
        "colab": {
          "base_uri": "https://localhost:8080/"
        },
        "id": "JbDX7jKsQNYi",
        "outputId": "ae0d7d92-ccae-4e02-b563-a788ab5120e1"
      },
      "execution_count": 95,
      "outputs": [
        {
          "output_type": "execute_result",
          "data": {
            "text/plain": [
              "array([1, 1, 1, ..., 0, 1, 1], dtype=int32)"
            ]
          },
          "metadata": {},
          "execution_count": 95
        }
      ]
    },
    {
      "cell_type": "code",
      "source": [
        "# cluster centres associated with each lables\n",
        "\n",
        "model_kmeans.cluster_centers_"
      ],
      "metadata": {
        "colab": {
          "base_uri": "https://localhost:8080/"
        },
        "id": "s6GB-a6wQQSd",
        "outputId": "c567445c-ec97-44fe-b3b0-4e1e5eff2d80"
      },
      "execution_count": 96,
      "outputs": [
        {
          "output_type": "execute_result",
          "data": {
            "text/plain": [
              "array([[ 5.69280197e-02,  2.15461508e-02,  4.15428764e-01,\n",
              "         7.76502363e-03,  4.55773126e-03,  1.09621005e-01,\n",
              "         1.83518364e-01,  2.78255837e-02,  4.90489598e-02,\n",
              "         5.57398375e-01,  1.00000000e+00],\n",
              "       [ 3.50812450e-02,  7.85813260e-03,  1.76330421e-01,\n",
              "         6.94996029e-03,  2.18427323e-03,  3.87875269e-02,\n",
              "         1.06313612e-01,  7.34309944e-03,  1.23113582e-02,\n",
              "         4.60411394e-01, -3.05311332e-15]])"
            ]
          },
          "metadata": {},
          "execution_count": 96
        }
      ]
    },
    {
      "cell_type": "code",
      "source": [
        "# within-cluster sum of squared\n",
        "\n",
        "# The lower values of inertia are better and zero is optimal.\n",
        "# Inertia is the sum of squared error for each cluster. \n",
        "# Therefore the smaller the inertia the denser the cluster(closer together all the points are)\n",
        "\n",
        "model_kmeans.inertia_"
      ],
      "metadata": {
        "colab": {
          "base_uri": "https://localhost:8080/"
        },
        "id": "Ei93fZicQS8S",
        "outputId": "4de92d19-9ccc-4485-fc51-47d6beb4e13f"
      },
      "execution_count": 97,
      "outputs": [
        {
          "output_type": "execute_result",
          "data": {
            "text/plain": [
              "823.6756984125209"
            ]
          },
          "metadata": {},
          "execution_count": 97
        }
      ]
    },
    {
      "cell_type": "code",
      "source": [
        "#hierarchial clustering\n",
        "n_clusters = [2,3,4,5,6,7,8]  # always start number from 2.\n",
        "\n",
        "for n_clusters in n_clusters:\n",
        "    for linkages in [\"ward\", \"complete\", \"average\", \"single\"]:\n",
        "        hie_cluster1 = AgglomerativeClustering(n_clusters=n_clusters,linkage=linkages) # bydefault it takes linkage 'ward'\n",
        "        hie_labels1 = hie_cluster1.fit_predict(minmax_df)\n",
        "        silhouette_score1 = sil(minmax_df, hie_labels1)\n",
        "        print(\"For n_clusters =\", n_clusters,\"The average silhouette_score with linkage-\",linkages, ':',silhouette_score1)\n",
        "    print()"
      ],
      "metadata": {
        "colab": {
          "base_uri": "https://localhost:8080/"
        },
        "id": "HOQQdyJ_QVPF",
        "outputId": "f8de729b-4f80-451d-bca2-c1f159fba3c9"
      },
      "execution_count": 98,
      "outputs": [
        {
          "output_type": "stream",
          "name": "stdout",
          "text": [
            "For n_clusters = 2 The average silhouette_score with linkage- ward : 0.535930510919477\n",
            "For n_clusters = 2 The average silhouette_score with linkage- complete : 0.47040913679492186\n",
            "For n_clusters = 2 The average silhouette_score with linkage- average : 0.47040913679492186\n",
            "For n_clusters = 2 The average silhouette_score with linkage- single : 0.535930510919477\n",
            "\n",
            "For n_clusters = 3 The average silhouette_score with linkage- ward : 0.43550164891825044\n",
            "For n_clusters = 3 The average silhouette_score with linkage- complete : 0.5318787367232326\n",
            "For n_clusters = 3 The average silhouette_score with linkage- average : 0.39619766243707655\n",
            "For n_clusters = 3 The average silhouette_score with linkage- single : 0.5351606918177734\n",
            "\n",
            "For n_clusters = 4 The average silhouette_score with linkage- ward : 0.42494300944261365\n",
            "For n_clusters = 4 The average silhouette_score with linkage- complete : 0.46459708515197673\n",
            "For n_clusters = 4 The average silhouette_score with linkage- average : 0.5286018409871408\n",
            "For n_clusters = 4 The average silhouette_score with linkage- single : 0.48129679558120275\n",
            "\n",
            "For n_clusters = 5 The average silhouette_score with linkage- ward : 0.3762586351398372\n",
            "For n_clusters = 5 The average silhouette_score with linkage- complete : 0.4167248248554338\n",
            "For n_clusters = 5 The average silhouette_score with linkage- average : 0.5082555071160846\n",
            "For n_clusters = 5 The average silhouette_score with linkage- single : 0.48005487141025094\n",
            "\n",
            "For n_clusters = 6 The average silhouette_score with linkage- ward : 0.33447794301195294\n",
            "For n_clusters = 6 The average silhouette_score with linkage- complete : 0.4172318835123988\n",
            "For n_clusters = 6 The average silhouette_score with linkage- average : 0.4872677894382957\n",
            "For n_clusters = 6 The average silhouette_score with linkage- single : 0.4327930185753205\n",
            "\n",
            "For n_clusters = 7 The average silhouette_score with linkage- ward : 0.32889569025182047\n",
            "For n_clusters = 7 The average silhouette_score with linkage- complete : 0.4161868994032843\n",
            "For n_clusters = 7 The average silhouette_score with linkage- average : 0.43873250506611094\n",
            "For n_clusters = 7 The average silhouette_score with linkage- single : 0.4313535297638312\n",
            "\n",
            "For n_clusters = 8 The average silhouette_score with linkage- ward : 0.3125764904816174\n",
            "For n_clusters = 8 The average silhouette_score with linkage- complete : 0.39120686651419934\n",
            "For n_clusters = 8 The average silhouette_score with linkage- average : 0.4087022964575043\n",
            "For n_clusters = 8 The average silhouette_score with linkage- single : 0.39132817868911945\n",
            "\n"
          ]
        }
      ]
    },
    {
      "cell_type": "code",
      "source": [
        "n_clusters = [2,3,4,5,6,7,8,9,10]  # always start number from 2.\n",
        "\n",
        "for n_clusters in n_clusters:\n",
        "    for linkages in [\"ward\", \"complete\", \"average\", \"single\"]:\n",
        "        hie_cluster1 = AgglomerativeClustering(n_clusters=n_clusters,linkage=linkages) # bydefault it takes linkage 'ward'\n",
        "        hie_labels1 = hie_cluster1.fit_predict(std_data)\n",
        "        silhouette_score1 = sil(std_data, hie_labels1)\n",
        "        print(\"For n_clusters =\", n_clusters,\"The average silhouette_score with linkage-\",linkages, ':',silhouette_score1)\n",
        "    print()"
      ],
      "metadata": {
        "colab": {
          "base_uri": "https://localhost:8080/"
        },
        "id": "PzyaTdX1Qdz3",
        "outputId": "cbec714e-ea06-48c8-b7cc-9e5cdd78b30b"
      },
      "execution_count": 99,
      "outputs": [
        {
          "output_type": "stream",
          "name": "stdout",
          "text": [
            "For n_clusters = 2 The average silhouette_score with linkage- ward : 0.28926595242577247\n",
            "For n_clusters = 2 The average silhouette_score with linkage- complete : 0.8111134025692677\n",
            "For n_clusters = 2 The average silhouette_score with linkage- average : 0.8111134025692677\n",
            "For n_clusters = 2 The average silhouette_score with linkage- single : 0.8562820070415407\n",
            "\n",
            "For n_clusters = 3 The average silhouette_score with linkage- ward : 0.2940432062008608\n",
            "For n_clusters = 3 The average silhouette_score with linkage- complete : 0.7760836053602842\n",
            "For n_clusters = 3 The average silhouette_score with linkage- average : 0.7838667595062349\n",
            "For n_clusters = 3 The average silhouette_score with linkage- single : 0.7350532148998382\n",
            "\n",
            "For n_clusters = 4 The average silhouette_score with linkage- ward : 0.30814152852022786\n",
            "For n_clusters = 4 The average silhouette_score with linkage- complete : 0.5985727763092806\n",
            "For n_clusters = 4 The average silhouette_score with linkage- average : 0.7731120442583631\n",
            "For n_clusters = 4 The average silhouette_score with linkage- single : 0.5380065449865503\n",
            "\n",
            "For n_clusters = 5 The average silhouette_score with linkage- ward : 0.3098805307874414\n",
            "For n_clusters = 5 The average silhouette_score with linkage- complete : 0.5625737661941762\n",
            "For n_clusters = 5 The average silhouette_score with linkage- average : 0.7700180807329777\n",
            "For n_clusters = 5 The average silhouette_score with linkage- single : 0.5378591358408883\n",
            "\n",
            "For n_clusters = 6 The average silhouette_score with linkage- ward : 0.3192511970153055\n",
            "For n_clusters = 6 The average silhouette_score with linkage- complete : 0.5404241979396106\n",
            "For n_clusters = 6 The average silhouette_score with linkage- average : 0.6618116714629186\n",
            "For n_clusters = 6 The average silhouette_score with linkage- single : 0.5364116456429503\n",
            "\n",
            "For n_clusters = 7 The average silhouette_score with linkage- ward : 0.18965334676868836\n",
            "For n_clusters = 7 The average silhouette_score with linkage- complete : 0.5418820074020084\n",
            "For n_clusters = 7 The average silhouette_score with linkage- average : 0.6345583525022677\n",
            "For n_clusters = 7 The average silhouette_score with linkage- single : 0.5372286905767694\n",
            "\n",
            "For n_clusters = 8 The average silhouette_score with linkage- ward : 0.1890586470843928\n",
            "For n_clusters = 8 The average silhouette_score with linkage- complete : 0.5354664617626079\n",
            "For n_clusters = 8 The average silhouette_score with linkage- average : 0.6205577093313711\n",
            "For n_clusters = 8 The average silhouette_score with linkage- single : 0.53652881674395\n",
            "\n",
            "For n_clusters = 9 The average silhouette_score with linkage- ward : 0.1951894366329298\n",
            "For n_clusters = 9 The average silhouette_score with linkage- complete : 0.5313341704697034\n",
            "For n_clusters = 9 The average silhouette_score with linkage- average : 0.6158172248186\n",
            "For n_clusters = 9 The average silhouette_score with linkage- single : 0.5335253557401146\n",
            "\n",
            "For n_clusters = 10 The average silhouette_score with linkage- ward : 0.20121590768292186\n",
            "For n_clusters = 10 The average silhouette_score with linkage- complete : 0.41505057280945407\n",
            "For n_clusters = 10 The average silhouette_score with linkage- average : 0.5868062971255262\n",
            "For n_clusters = 10 The average silhouette_score with linkage- single : 0.5419230857779356\n",
            "\n"
          ]
        }
      ]
    },
    {
      "cell_type": "code",
      "source": [
        "n_clusters = [2,3,4,5,6,7,8,9,10,11,12,13,14,15]  # always start number from 2.\n",
        "\n",
        "for n_clusters in n_clusters:\n",
        "    for linkages in [\"ward\", \"complete\", \"average\", \"single\"]:\n",
        "        hie_cluster1 = AgglomerativeClustering(n_clusters=n_clusters,linkage=linkages) # bydefault it takes linkage 'ward'\n",
        "        hie_labels1 = hie_cluster1.fit_predict(std_data)\n",
        "        silhouette_score1 = sil(std_data, hie_labels1)\n",
        "        print(\"For n_clusters =\", n_clusters,\"The average silhouette_score with linkage-\",linkages, ':',silhouette_score1)\n",
        "    print()"
      ],
      "metadata": {
        "colab": {
          "base_uri": "https://localhost:8080/"
        },
        "id": "loZCsOx1Qgdr",
        "outputId": "fcd68585-090e-4233-c1db-c9fe253a9041"
      },
      "execution_count": 100,
      "outputs": [
        {
          "output_type": "stream",
          "name": "stdout",
          "text": [
            "For n_clusters = 2 The average silhouette_score with linkage- ward : 0.28926595242577247\n",
            "For n_clusters = 2 The average silhouette_score with linkage- complete : 0.8111134025692677\n",
            "For n_clusters = 2 The average silhouette_score with linkage- average : 0.8111134025692677\n",
            "For n_clusters = 2 The average silhouette_score with linkage- single : 0.8562820070415407\n",
            "\n",
            "For n_clusters = 3 The average silhouette_score with linkage- ward : 0.2940432062008608\n",
            "For n_clusters = 3 The average silhouette_score with linkage- complete : 0.7760836053602842\n",
            "For n_clusters = 3 The average silhouette_score with linkage- average : 0.7838667595062349\n",
            "For n_clusters = 3 The average silhouette_score with linkage- single : 0.7350532148998382\n",
            "\n",
            "For n_clusters = 4 The average silhouette_score with linkage- ward : 0.30814152852022786\n",
            "For n_clusters = 4 The average silhouette_score with linkage- complete : 0.5985727763092806\n",
            "For n_clusters = 4 The average silhouette_score with linkage- average : 0.7731120442583631\n",
            "For n_clusters = 4 The average silhouette_score with linkage- single : 0.5380065449865503\n",
            "\n",
            "For n_clusters = 5 The average silhouette_score with linkage- ward : 0.3098805307874414\n",
            "For n_clusters = 5 The average silhouette_score with linkage- complete : 0.5625737661941762\n",
            "For n_clusters = 5 The average silhouette_score with linkage- average : 0.7700180807329777\n",
            "For n_clusters = 5 The average silhouette_score with linkage- single : 0.5378591358408883\n",
            "\n",
            "For n_clusters = 6 The average silhouette_score with linkage- ward : 0.3192511970153055\n",
            "For n_clusters = 6 The average silhouette_score with linkage- complete : 0.5404241979396106\n",
            "For n_clusters = 6 The average silhouette_score with linkage- average : 0.6618116714629186\n",
            "For n_clusters = 6 The average silhouette_score with linkage- single : 0.5364116456429503\n",
            "\n",
            "For n_clusters = 7 The average silhouette_score with linkage- ward : 0.18965334676868836\n",
            "For n_clusters = 7 The average silhouette_score with linkage- complete : 0.5418820074020084\n",
            "For n_clusters = 7 The average silhouette_score with linkage- average : 0.6345583525022677\n",
            "For n_clusters = 7 The average silhouette_score with linkage- single : 0.5372286905767694\n",
            "\n",
            "For n_clusters = 8 The average silhouette_score with linkage- ward : 0.1890586470843928\n",
            "For n_clusters = 8 The average silhouette_score with linkage- complete : 0.5354664617626079\n",
            "For n_clusters = 8 The average silhouette_score with linkage- average : 0.6205577093313711\n",
            "For n_clusters = 8 The average silhouette_score with linkage- single : 0.53652881674395\n",
            "\n",
            "For n_clusters = 9 The average silhouette_score with linkage- ward : 0.1951894366329298\n",
            "For n_clusters = 9 The average silhouette_score with linkage- complete : 0.5313341704697034\n",
            "For n_clusters = 9 The average silhouette_score with linkage- average : 0.6158172248186\n",
            "For n_clusters = 9 The average silhouette_score with linkage- single : 0.5335253557401146\n",
            "\n",
            "For n_clusters = 10 The average silhouette_score with linkage- ward : 0.20121590768292186\n",
            "For n_clusters = 10 The average silhouette_score with linkage- complete : 0.41505057280945407\n",
            "For n_clusters = 10 The average silhouette_score with linkage- average : 0.5868062971255262\n",
            "For n_clusters = 10 The average silhouette_score with linkage- single : 0.5419230857779356\n",
            "\n",
            "For n_clusters = 11 The average silhouette_score with linkage- ward : 0.21796153403184718\n",
            "For n_clusters = 11 The average silhouette_score with linkage- complete : 0.41440483626658253\n",
            "For n_clusters = 11 The average silhouette_score with linkage- average : 0.5861620872213413\n",
            "For n_clusters = 11 The average silhouette_score with linkage- single : 0.5424367641775758\n",
            "\n",
            "For n_clusters = 12 The average silhouette_score with linkage- ward : 0.21940993259706812\n",
            "For n_clusters = 12 The average silhouette_score with linkage- complete : 0.4137838132222759\n",
            "For n_clusters = 12 The average silhouette_score with linkage- average : 0.5796929056235917\n",
            "For n_clusters = 12 The average silhouette_score with linkage- single : 0.5422863632780716\n",
            "\n",
            "For n_clusters = 13 The average silhouette_score with linkage- ward : 0.2211945236775462\n",
            "For n_clusters = 13 The average silhouette_score with linkage- complete : 0.41177160817703107\n",
            "For n_clusters = 13 The average silhouette_score with linkage- average : 0.5795758650513686\n",
            "For n_clusters = 13 The average silhouette_score with linkage- single : 0.4508204942170774\n",
            "\n",
            "For n_clusters = 14 The average silhouette_score with linkage- ward : 0.21215024469275245\n",
            "For n_clusters = 14 The average silhouette_score with linkage- complete : 0.40868655488737393\n",
            "For n_clusters = 14 The average silhouette_score with linkage- average : 0.5782760920504922\n",
            "For n_clusters = 14 The average silhouette_score with linkage- single : 0.4490716988175714\n",
            "\n",
            "For n_clusters = 15 The average silhouette_score with linkage- ward : 0.22027579116987206\n",
            "For n_clusters = 15 The average silhouette_score with linkage- complete : 0.41034620332110755\n",
            "For n_clusters = 15 The average silhouette_score with linkage- average : 0.5651541945197336\n",
            "For n_clusters = 15 The average silhouette_score with linkage- single : 0.4490195882868533\n",
            "\n"
          ]
        }
      ]
    },
    {
      "cell_type": "code",
      "source": [
        " #Run Hierarchical Clustering.(Agglomerative Clustering)\n",
        "agg=AgglomerativeClustering()\n",
        "y_pred_hie = agg.fit_predict(std_data)\n",
        "print(y_pred_hie.shape)\n",
        "y_pred_hie"
      ],
      "metadata": {
        "colab": {
          "base_uri": "https://localhost:8080/"
        },
        "id": "AjNMK-g2QrAV",
        "outputId": "e629bad8-ad63-4b30-94e0-22fe1b26e340"
      },
      "execution_count": 101,
      "outputs": [
        {
          "output_type": "stream",
          "name": "stdout",
          "text": [
            "(3999,)\n"
          ]
        },
        {
          "output_type": "execute_result",
          "data": {
            "text/plain": [
              "array([1, 1, 1, ..., 0, 1, 1])"
            ]
          },
          "metadata": {},
          "execution_count": 101
        }
      ]
    },
    {
      "cell_type": "code",
      "source": [
        "# Cluster numbers\n",
        "\n",
        "agg.n_clusters_"
      ],
      "metadata": {
        "colab": {
          "base_uri": "https://localhost:8080/"
        },
        "id": "4iXY8fffQ3uP",
        "outputId": "cf896fd8-c44d-4c54-e4f6-bc76feafbd7f"
      },
      "execution_count": 102,
      "outputs": [
        {
          "output_type": "execute_result",
          "data": {
            "text/plain": [
              "2"
            ]
          },
          "metadata": {},
          "execution_count": 102
        }
      ]
    },
    {
      "cell_type": "code",
      "source": [
        "# Clustering Score\n",
        "\n",
        "(sil(std_data, agg.labels_)*100).round(3)"
      ],
      "metadata": {
        "colab": {
          "base_uri": "https://localhost:8080/"
        },
        "id": "2NWk38ShRVmr",
        "outputId": "cc51a0eb-8bcf-4f51-bdb3-ebf2942f8262"
      },
      "execution_count": 103,
      "outputs": [
        {
          "output_type": "execute_result",
          "data": {
            "text/plain": [
              "28.927"
            ]
          },
          "metadata": {},
          "execution_count": 103
        }
      ]
    },
    {
      "cell_type": "code",
      "source": [
        "# Concating Labels with main dataset copy\n",
        "\n",
        "df['Hierarchical_labels'] = agg.labels_\n",
        "df.head()"
      ],
      "metadata": {
        "colab": {
          "base_uri": "https://localhost:8080/",
          "height": 270
        },
        "id": "gVSMM8d4RYx1",
        "outputId": "cae9d78a-45b6-4c1d-e9b8-011caa877444"
      },
      "execution_count": 104,
      "outputs": [
        {
          "output_type": "execute_result",
          "data": {
            "text/plain": [
              "   ID  Balance  Qual_miles  cc1_miles  cc2_miles  cc3_miles  Bonus_miles  \\\n",
              "0  1   28143    0           1          1          1          174           \n",
              "1  2   19244    0           1          1          1          215           \n",
              "2  3   41354    0           1          1          1          4123          \n",
              "3  4   14776    0           1          1          1          500           \n",
              "4  5   97752    0           4          1          1          43300         \n",
              "\n",
              "   Bonus_trans  Flight_miles_12mo  Flight_trans_12  Days_since_enroll  Award  \\\n",
              "0  1            0                  0                7000               0       \n",
              "1  2            0                  0                6968               0       \n",
              "2  4            0                  0                7034               0       \n",
              "3  1            0                  0                6952               0       \n",
              "4  26           2077               4                6935               1       \n",
              "\n",
              "   Kmeans_label  Hierarchical_labels  \n",
              "0  2             1                    \n",
              "1  2             1                    \n",
              "2  2             1                    \n",
              "3  2             1                    \n",
              "4  1             0                    "
            ],
            "text/html": [
              "\n",
              "  <div id=\"df-432453a6-26cf-4bdd-8471-140cd15e4b42\">\n",
              "    <div class=\"colab-df-container\">\n",
              "      <div>\n",
              "<style scoped>\n",
              "    .dataframe tbody tr th:only-of-type {\n",
              "        vertical-align: middle;\n",
              "    }\n",
              "\n",
              "    .dataframe tbody tr th {\n",
              "        vertical-align: top;\n",
              "    }\n",
              "\n",
              "    .dataframe thead th {\n",
              "        text-align: right;\n",
              "    }\n",
              "</style>\n",
              "<table border=\"1\" class=\"dataframe\">\n",
              "  <thead>\n",
              "    <tr style=\"text-align: right;\">\n",
              "      <th></th>\n",
              "      <th>ID</th>\n",
              "      <th>Balance</th>\n",
              "      <th>Qual_miles</th>\n",
              "      <th>cc1_miles</th>\n",
              "      <th>cc2_miles</th>\n",
              "      <th>cc3_miles</th>\n",
              "      <th>Bonus_miles</th>\n",
              "      <th>Bonus_trans</th>\n",
              "      <th>Flight_miles_12mo</th>\n",
              "      <th>Flight_trans_12</th>\n",
              "      <th>Days_since_enroll</th>\n",
              "      <th>Award</th>\n",
              "      <th>Kmeans_label</th>\n",
              "      <th>Hierarchical_labels</th>\n",
              "    </tr>\n",
              "  </thead>\n",
              "  <tbody>\n",
              "    <tr>\n",
              "      <th>0</th>\n",
              "      <td>1</td>\n",
              "      <td>28143</td>\n",
              "      <td>0</td>\n",
              "      <td>1</td>\n",
              "      <td>1</td>\n",
              "      <td>1</td>\n",
              "      <td>174</td>\n",
              "      <td>1</td>\n",
              "      <td>0</td>\n",
              "      <td>0</td>\n",
              "      <td>7000</td>\n",
              "      <td>0</td>\n",
              "      <td>2</td>\n",
              "      <td>1</td>\n",
              "    </tr>\n",
              "    <tr>\n",
              "      <th>1</th>\n",
              "      <td>2</td>\n",
              "      <td>19244</td>\n",
              "      <td>0</td>\n",
              "      <td>1</td>\n",
              "      <td>1</td>\n",
              "      <td>1</td>\n",
              "      <td>215</td>\n",
              "      <td>2</td>\n",
              "      <td>0</td>\n",
              "      <td>0</td>\n",
              "      <td>6968</td>\n",
              "      <td>0</td>\n",
              "      <td>2</td>\n",
              "      <td>1</td>\n",
              "    </tr>\n",
              "    <tr>\n",
              "      <th>2</th>\n",
              "      <td>3</td>\n",
              "      <td>41354</td>\n",
              "      <td>0</td>\n",
              "      <td>1</td>\n",
              "      <td>1</td>\n",
              "      <td>1</td>\n",
              "      <td>4123</td>\n",
              "      <td>4</td>\n",
              "      <td>0</td>\n",
              "      <td>0</td>\n",
              "      <td>7034</td>\n",
              "      <td>0</td>\n",
              "      <td>2</td>\n",
              "      <td>1</td>\n",
              "    </tr>\n",
              "    <tr>\n",
              "      <th>3</th>\n",
              "      <td>4</td>\n",
              "      <td>14776</td>\n",
              "      <td>0</td>\n",
              "      <td>1</td>\n",
              "      <td>1</td>\n",
              "      <td>1</td>\n",
              "      <td>500</td>\n",
              "      <td>1</td>\n",
              "      <td>0</td>\n",
              "      <td>0</td>\n",
              "      <td>6952</td>\n",
              "      <td>0</td>\n",
              "      <td>2</td>\n",
              "      <td>1</td>\n",
              "    </tr>\n",
              "    <tr>\n",
              "      <th>4</th>\n",
              "      <td>5</td>\n",
              "      <td>97752</td>\n",
              "      <td>0</td>\n",
              "      <td>4</td>\n",
              "      <td>1</td>\n",
              "      <td>1</td>\n",
              "      <td>43300</td>\n",
              "      <td>26</td>\n",
              "      <td>2077</td>\n",
              "      <td>4</td>\n",
              "      <td>6935</td>\n",
              "      <td>1</td>\n",
              "      <td>1</td>\n",
              "      <td>0</td>\n",
              "    </tr>\n",
              "  </tbody>\n",
              "</table>\n",
              "</div>\n",
              "      <button class=\"colab-df-convert\" onclick=\"convertToInteractive('df-432453a6-26cf-4bdd-8471-140cd15e4b42')\"\n",
              "              title=\"Convert this dataframe to an interactive table.\"\n",
              "              style=\"display:none;\">\n",
              "        \n",
              "  <svg xmlns=\"http://www.w3.org/2000/svg\" height=\"24px\"viewBox=\"0 0 24 24\"\n",
              "       width=\"24px\">\n",
              "    <path d=\"M0 0h24v24H0V0z\" fill=\"none\"/>\n",
              "    <path d=\"M18.56 5.44l.94 2.06.94-2.06 2.06-.94-2.06-.94-.94-2.06-.94 2.06-2.06.94zm-11 1L8.5 8.5l.94-2.06 2.06-.94-2.06-.94L8.5 2.5l-.94 2.06-2.06.94zm10 10l.94 2.06.94-2.06 2.06-.94-2.06-.94-.94-2.06-.94 2.06-2.06.94z\"/><path d=\"M17.41 7.96l-1.37-1.37c-.4-.4-.92-.59-1.43-.59-.52 0-1.04.2-1.43.59L10.3 9.45l-7.72 7.72c-.78.78-.78 2.05 0 2.83L4 21.41c.39.39.9.59 1.41.59.51 0 1.02-.2 1.41-.59l7.78-7.78 2.81-2.81c.8-.78.8-2.07 0-2.86zM5.41 20L4 18.59l7.72-7.72 1.47 1.35L5.41 20z\"/>\n",
              "  </svg>\n",
              "      </button>\n",
              "      \n",
              "  <style>\n",
              "    .colab-df-container {\n",
              "      display:flex;\n",
              "      flex-wrap:wrap;\n",
              "      gap: 12px;\n",
              "    }\n",
              "\n",
              "    .colab-df-convert {\n",
              "      background-color: #E8F0FE;\n",
              "      border: none;\n",
              "      border-radius: 50%;\n",
              "      cursor: pointer;\n",
              "      display: none;\n",
              "      fill: #1967D2;\n",
              "      height: 32px;\n",
              "      padding: 0 0 0 0;\n",
              "      width: 32px;\n",
              "    }\n",
              "\n",
              "    .colab-df-convert:hover {\n",
              "      background-color: #E2EBFA;\n",
              "      box-shadow: 0px 1px 2px rgba(60, 64, 67, 0.3), 0px 1px 3px 1px rgba(60, 64, 67, 0.15);\n",
              "      fill: #174EA6;\n",
              "    }\n",
              "\n",
              "    [theme=dark] .colab-df-convert {\n",
              "      background-color: #3B4455;\n",
              "      fill: #D2E3FC;\n",
              "    }\n",
              "\n",
              "    [theme=dark] .colab-df-convert:hover {\n",
              "      background-color: #434B5C;\n",
              "      box-shadow: 0px 1px 3px 1px rgba(0, 0, 0, 0.15);\n",
              "      filter: drop-shadow(0px 1px 2px rgba(0, 0, 0, 0.3));\n",
              "      fill: #FFFFFF;\n",
              "    }\n",
              "  </style>\n",
              "\n",
              "      <script>\n",
              "        const buttonEl =\n",
              "          document.querySelector('#df-432453a6-26cf-4bdd-8471-140cd15e4b42 button.colab-df-convert');\n",
              "        buttonEl.style.display =\n",
              "          google.colab.kernel.accessAllowed ? 'block' : 'none';\n",
              "\n",
              "        async function convertToInteractive(key) {\n",
              "          const element = document.querySelector('#df-432453a6-26cf-4bdd-8471-140cd15e4b42');\n",
              "          const dataTable =\n",
              "            await google.colab.kernel.invokeFunction('convertToInteractive',\n",
              "                                                     [key], {});\n",
              "          if (!dataTable) return;\n",
              "\n",
              "          const docLinkHtml = 'Like what you see? Visit the ' +\n",
              "            '<a target=\"_blank\" href=https://colab.research.google.com/notebooks/data_table.ipynb>data table notebook</a>'\n",
              "            + ' to learn more about interactive tables.';\n",
              "          element.innerHTML = '';\n",
              "          dataTable['output_type'] = 'display_data';\n",
              "          await google.colab.output.renderOutput(dataTable, element);\n",
              "          const docLink = document.createElement('div');\n",
              "          docLink.innerHTML = docLinkHtml;\n",
              "          element.appendChild(docLink);\n",
              "        }\n",
              "      </script>\n",
              "    </div>\n",
              "  </div>\n",
              "  "
            ]
          },
          "metadata": {},
          "execution_count": 104
        }
      ]
    },
    {
      "cell_type": "code",
      "source": [
        "df.groupby('Hierarchical_labels').agg(['mean'])"
      ],
      "metadata": {
        "colab": {
          "base_uri": "https://localhost:8080/",
          "height": 239
        },
        "id": "DKAB4zxkRheg",
        "outputId": "9b70bdc4-97de-4a61-dec7-4b875244b348"
      },
      "execution_count": 105,
      "outputs": [
        {
          "output_type": "execute_result",
          "data": {
            "text/plain": [
              "                              ID        Balance  Qual_miles cc1_miles  \\\n",
              "                            mean           mean        mean      mean   \n",
              "Hierarchical_labels                                                     \n",
              "0                    1712.131788  117912.886093  366.377483  3.406623   \n",
              "1                    2198.450783  46718.863399   9.274407    1.242266   \n",
              "\n",
              "                    cc2_miles cc3_miles   Bonus_miles Bonus_trans  \\\n",
              "                         mean      mean          mean        mean   \n",
              "Hierarchical_labels                                                 \n",
              "0                    1.000000  1.03245   37101.439735  19.037086    \n",
              "1                    1.023303  1.00000   5037.792688   7.091201     \n",
              "\n",
              "                    Flight_miles_12mo Flight_trans_12 Days_since_enroll  \\\n",
              "                                 mean            mean              mean   \n",
              "Hierarchical_labels                                                       \n",
              "0                    853.826490        2.483444        4688.513245        \n",
              "1                    221.167135        0.700281        3772.785858        \n",
              "\n",
              "                        Award Kmeans_label  \n",
              "                         mean         mean  \n",
              "Hierarchical_labels                         \n",
              "0                    0.670861  1.192715     \n",
              "1                    0.188027  1.978305     "
            ],
            "text/html": [
              "\n",
              "  <div id=\"df-6f6675c6-3547-429f-bf0b-cae2857a9274\">\n",
              "    <div class=\"colab-df-container\">\n",
              "      <div>\n",
              "<style scoped>\n",
              "    .dataframe tbody tr th:only-of-type {\n",
              "        vertical-align: middle;\n",
              "    }\n",
              "\n",
              "    .dataframe tbody tr th {\n",
              "        vertical-align: top;\n",
              "    }\n",
              "\n",
              "    .dataframe thead tr th {\n",
              "        text-align: left;\n",
              "    }\n",
              "\n",
              "    .dataframe thead tr:last-of-type th {\n",
              "        text-align: right;\n",
              "    }\n",
              "</style>\n",
              "<table border=\"1\" class=\"dataframe\">\n",
              "  <thead>\n",
              "    <tr>\n",
              "      <th></th>\n",
              "      <th>ID</th>\n",
              "      <th>Balance</th>\n",
              "      <th>Qual_miles</th>\n",
              "      <th>cc1_miles</th>\n",
              "      <th>cc2_miles</th>\n",
              "      <th>cc3_miles</th>\n",
              "      <th>Bonus_miles</th>\n",
              "      <th>Bonus_trans</th>\n",
              "      <th>Flight_miles_12mo</th>\n",
              "      <th>Flight_trans_12</th>\n",
              "      <th>Days_since_enroll</th>\n",
              "      <th>Award</th>\n",
              "      <th>Kmeans_label</th>\n",
              "    </tr>\n",
              "    <tr>\n",
              "      <th></th>\n",
              "      <th>mean</th>\n",
              "      <th>mean</th>\n",
              "      <th>mean</th>\n",
              "      <th>mean</th>\n",
              "      <th>mean</th>\n",
              "      <th>mean</th>\n",
              "      <th>mean</th>\n",
              "      <th>mean</th>\n",
              "      <th>mean</th>\n",
              "      <th>mean</th>\n",
              "      <th>mean</th>\n",
              "      <th>mean</th>\n",
              "      <th>mean</th>\n",
              "    </tr>\n",
              "    <tr>\n",
              "      <th>Hierarchical_labels</th>\n",
              "      <th></th>\n",
              "      <th></th>\n",
              "      <th></th>\n",
              "      <th></th>\n",
              "      <th></th>\n",
              "      <th></th>\n",
              "      <th></th>\n",
              "      <th></th>\n",
              "      <th></th>\n",
              "      <th></th>\n",
              "      <th></th>\n",
              "      <th></th>\n",
              "      <th></th>\n",
              "    </tr>\n",
              "  </thead>\n",
              "  <tbody>\n",
              "    <tr>\n",
              "      <th>0</th>\n",
              "      <td>1712.131788</td>\n",
              "      <td>117912.886093</td>\n",
              "      <td>366.377483</td>\n",
              "      <td>3.406623</td>\n",
              "      <td>1.000000</td>\n",
              "      <td>1.03245</td>\n",
              "      <td>37101.439735</td>\n",
              "      <td>19.037086</td>\n",
              "      <td>853.826490</td>\n",
              "      <td>2.483444</td>\n",
              "      <td>4688.513245</td>\n",
              "      <td>0.670861</td>\n",
              "      <td>1.192715</td>\n",
              "    </tr>\n",
              "    <tr>\n",
              "      <th>1</th>\n",
              "      <td>2198.450783</td>\n",
              "      <td>46718.863399</td>\n",
              "      <td>9.274407</td>\n",
              "      <td>1.242266</td>\n",
              "      <td>1.023303</td>\n",
              "      <td>1.00000</td>\n",
              "      <td>5037.792688</td>\n",
              "      <td>7.091201</td>\n",
              "      <td>221.167135</td>\n",
              "      <td>0.700281</td>\n",
              "      <td>3772.785858</td>\n",
              "      <td>0.188027</td>\n",
              "      <td>1.978305</td>\n",
              "    </tr>\n",
              "  </tbody>\n",
              "</table>\n",
              "</div>\n",
              "      <button class=\"colab-df-convert\" onclick=\"convertToInteractive('df-6f6675c6-3547-429f-bf0b-cae2857a9274')\"\n",
              "              title=\"Convert this dataframe to an interactive table.\"\n",
              "              style=\"display:none;\">\n",
              "        \n",
              "  <svg xmlns=\"http://www.w3.org/2000/svg\" height=\"24px\"viewBox=\"0 0 24 24\"\n",
              "       width=\"24px\">\n",
              "    <path d=\"M0 0h24v24H0V0z\" fill=\"none\"/>\n",
              "    <path d=\"M18.56 5.44l.94 2.06.94-2.06 2.06-.94-2.06-.94-.94-2.06-.94 2.06-2.06.94zm-11 1L8.5 8.5l.94-2.06 2.06-.94-2.06-.94L8.5 2.5l-.94 2.06-2.06.94zm10 10l.94 2.06.94-2.06 2.06-.94-2.06-.94-.94-2.06-.94 2.06-2.06.94z\"/><path d=\"M17.41 7.96l-1.37-1.37c-.4-.4-.92-.59-1.43-.59-.52 0-1.04.2-1.43.59L10.3 9.45l-7.72 7.72c-.78.78-.78 2.05 0 2.83L4 21.41c.39.39.9.59 1.41.59.51 0 1.02-.2 1.41-.59l7.78-7.78 2.81-2.81c.8-.78.8-2.07 0-2.86zM5.41 20L4 18.59l7.72-7.72 1.47 1.35L5.41 20z\"/>\n",
              "  </svg>\n",
              "      </button>\n",
              "      \n",
              "  <style>\n",
              "    .colab-df-container {\n",
              "      display:flex;\n",
              "      flex-wrap:wrap;\n",
              "      gap: 12px;\n",
              "    }\n",
              "\n",
              "    .colab-df-convert {\n",
              "      background-color: #E8F0FE;\n",
              "      border: none;\n",
              "      border-radius: 50%;\n",
              "      cursor: pointer;\n",
              "      display: none;\n",
              "      fill: #1967D2;\n",
              "      height: 32px;\n",
              "      padding: 0 0 0 0;\n",
              "      width: 32px;\n",
              "    }\n",
              "\n",
              "    .colab-df-convert:hover {\n",
              "      background-color: #E2EBFA;\n",
              "      box-shadow: 0px 1px 2px rgba(60, 64, 67, 0.3), 0px 1px 3px 1px rgba(60, 64, 67, 0.15);\n",
              "      fill: #174EA6;\n",
              "    }\n",
              "\n",
              "    [theme=dark] .colab-df-convert {\n",
              "      background-color: #3B4455;\n",
              "      fill: #D2E3FC;\n",
              "    }\n",
              "\n",
              "    [theme=dark] .colab-df-convert:hover {\n",
              "      background-color: #434B5C;\n",
              "      box-shadow: 0px 1px 3px 1px rgba(0, 0, 0, 0.15);\n",
              "      filter: drop-shadow(0px 1px 2px rgba(0, 0, 0, 0.3));\n",
              "      fill: #FFFFFF;\n",
              "    }\n",
              "  </style>\n",
              "\n",
              "      <script>\n",
              "        const buttonEl =\n",
              "          document.querySelector('#df-6f6675c6-3547-429f-bf0b-cae2857a9274 button.colab-df-convert');\n",
              "        buttonEl.style.display =\n",
              "          google.colab.kernel.accessAllowed ? 'block' : 'none';\n",
              "\n",
              "        async function convertToInteractive(key) {\n",
              "          const element = document.querySelector('#df-6f6675c6-3547-429f-bf0b-cae2857a9274');\n",
              "          const dataTable =\n",
              "            await google.colab.kernel.invokeFunction('convertToInteractive',\n",
              "                                                     [key], {});\n",
              "          if (!dataTable) return;\n",
              "\n",
              "          const docLinkHtml = 'Like what you see? Visit the ' +\n",
              "            '<a target=\"_blank\" href=https://colab.research.google.com/notebooks/data_table.ipynb>data table notebook</a>'\n",
              "            + ' to learn more about interactive tables.';\n",
              "          element.innerHTML = '';\n",
              "          dataTable['output_type'] = 'display_data';\n",
              "          await google.colab.output.renderOutput(dataTable, element);\n",
              "          const docLink = document.createElement('div');\n",
              "          docLink.innerHTML = docLinkHtml;\n",
              "          element.appendChild(docLink);\n",
              "        }\n",
              "      </script>\n",
              "    </div>\n",
              "  </div>\n",
              "  "
            ]
          },
          "metadata": {},
          "execution_count": 105
        }
      ]
    },
    {
      "cell_type": "code",
      "source": [
        "agg = AgglomerativeClustering(n_clusters=2, linkage='ward')\n",
        "y_pred_hie = agg.fit_predict(df)\n",
        "print(y_pred_hie.shape)\n",
        "y_pred_hie"
      ],
      "metadata": {
        "colab": {
          "base_uri": "https://localhost:8080/"
        },
        "id": "CjzcS3tERjsB",
        "outputId": "fda04c72-828a-4843-c76d-374f682ad692"
      },
      "execution_count": 106,
      "outputs": [
        {
          "output_type": "stream",
          "name": "stdout",
          "text": [
            "(3999,)\n"
          ]
        },
        {
          "output_type": "execute_result",
          "data": {
            "text/plain": [
              "array([1, 1, 1, ..., 1, 1, 1])"
            ]
          },
          "metadata": {},
          "execution_count": 106
        }
      ]
    },
    {
      "cell_type": "code",
      "source": [
        "# Cluster numbers\n",
        "\n",
        "agg.n_clusters_"
      ],
      "metadata": {
        "colab": {
          "base_uri": "https://localhost:8080/"
        },
        "id": "HVQhXAuhRxIK",
        "outputId": "29aae2eb-4730-4fcc-ef18-f88508661177"
      },
      "execution_count": 107,
      "outputs": [
        {
          "output_type": "execute_result",
          "data": {
            "text/plain": [
              "2"
            ]
          },
          "metadata": {},
          "execution_count": 107
        }
      ]
    },
    {
      "cell_type": "code",
      "source": [
        "# Clustering Score\n",
        "\n",
        "(sil(df, agg.labels_)*100).round(3)\n"
      ],
      "metadata": {
        "colab": {
          "base_uri": "https://localhost:8080/"
        },
        "id": "NMouGnmUR6WK",
        "outputId": "c04d584b-391a-47fc-9f8f-295dbbfa2145"
      },
      "execution_count": 108,
      "outputs": [
        {
          "output_type": "execute_result",
          "data": {
            "text/plain": [
              "72.56"
            ]
          },
          "metadata": {},
          "execution_count": 108
        }
      ]
    },
    {
      "cell_type": "markdown",
      "source": [
        "# DBSCAN"
      ],
      "metadata": {
        "id": "EEczzfcCSQ2c"
      }
    },
    {
      "cell_type": "code",
      "source": [
        "from itertools import product\n",
        "\n",
        "eps_values = np.arange(0.25,3,0.25) # eps values to be investigated\n",
        "min_samples = np.arange(3,23) # min_samples values to be investigated\n",
        "DBSCAN_params = list(product(eps_values, min_samples))"
      ],
      "metadata": {
        "id": "GtyxIa6PSFst"
      },
      "execution_count": 49,
      "outputs": []
    },
    {
      "cell_type": "code",
      "source": [
        "no_of_clusters = []\n",
        "sil_score = []\n",
        "\n",
        "for p in DBSCAN_params:\n",
        "    DBS_clustering = DBSCAN(eps=p[0], min_samples=p[1]).fit(std_data)\n",
        "    no_of_clusters.append(len(np.unique(DBS_clustering.labels_)))\n",
        "    sil_score.append(silhouette_score(std_data, DBS_clustering.labels_))"
      ],
      "metadata": {
        "id": "K4WPv5JpSTS4"
      },
      "execution_count": 50,
      "outputs": []
    },
    {
      "cell_type": "code",
      "source": [
        "dbscan = DBSCAN(eps=2.5, min_samples=21)\n",
        "dbscan.fit(std_data)"
      ],
      "metadata": {
        "colab": {
          "base_uri": "https://localhost:8080/"
        },
        "id": "S40k6DrJSpni",
        "outputId": "5138eb29-f537-4ae1-eb13-da0a83b891df"
      },
      "execution_count": 51,
      "outputs": [
        {
          "output_type": "execute_result",
          "data": {
            "text/plain": [
              "DBSCAN(eps=2.5, min_samples=21)"
            ]
          },
          "metadata": {},
          "execution_count": 51
        }
      ]
    },
    {
      "cell_type": "code",
      "source": [
        "dbscan.labels_"
      ],
      "metadata": {
        "colab": {
          "base_uri": "https://localhost:8080/"
        },
        "id": "EfHTPVYZSu3R",
        "outputId": "f97085ba-fe3b-4bee-8221-60330a859030"
      },
      "execution_count": 52,
      "outputs": [
        {
          "output_type": "execute_result",
          "data": {
            "text/plain": [
              "array([0, 0, 0, ..., 0, 0, 0])"
            ]
          },
          "metadata": {},
          "execution_count": 52
        }
      ]
    },
    {
      "cell_type": "code",
      "source": [
        "# Concating Labels with main dataset copy\n",
        "\n",
        "df['DBSCAN_labels'] = dbscan.labels_\n",
        "df.head()"
      ],
      "metadata": {
        "colab": {
          "base_uri": "https://localhost:8080/",
          "height": 270
        },
        "id": "9V1K8T61SxXc",
        "outputId": "029fd7e5-4748-4aae-8554-472ffe82c1e8"
      },
      "execution_count": 53,
      "outputs": [
        {
          "output_type": "execute_result",
          "data": {
            "text/plain": [
              "   ID  Balance  Qual_miles  cc1_miles  cc2_miles  cc3_miles  Bonus_miles  \\\n",
              "0  1   28143    0           1          1          1          174           \n",
              "1  2   19244    0           1          1          1          215           \n",
              "2  3   41354    0           1          1          1          4123          \n",
              "3  4   14776    0           1          1          1          500           \n",
              "4  5   97752    0           4          1          1          43300         \n",
              "\n",
              "   Bonus_trans  Flight_miles_12mo  Flight_trans_12  Days_since_enroll  Award  \\\n",
              "0  1            0                  0                7000               0       \n",
              "1  2            0                  0                6968               0       \n",
              "2  4            0                  0                7034               0       \n",
              "3  1            0                  0                6952               0       \n",
              "4  26           2077               4                6935               1       \n",
              "\n",
              "   Kmeans_label  Hierarchical_labels  DBSCAN_labels  \n",
              "0  2             1                    0              \n",
              "1  2             1                    0              \n",
              "2  2             1                    0              \n",
              "3  2             1                    0              \n",
              "4  1             0                    0              "
            ],
            "text/html": [
              "\n",
              "  <div id=\"df-b26fb16c-8ccf-4e7d-a61a-85e96980ee59\">\n",
              "    <div class=\"colab-df-container\">\n",
              "      <div>\n",
              "<style scoped>\n",
              "    .dataframe tbody tr th:only-of-type {\n",
              "        vertical-align: middle;\n",
              "    }\n",
              "\n",
              "    .dataframe tbody tr th {\n",
              "        vertical-align: top;\n",
              "    }\n",
              "\n",
              "    .dataframe thead th {\n",
              "        text-align: right;\n",
              "    }\n",
              "</style>\n",
              "<table border=\"1\" class=\"dataframe\">\n",
              "  <thead>\n",
              "    <tr style=\"text-align: right;\">\n",
              "      <th></th>\n",
              "      <th>ID</th>\n",
              "      <th>Balance</th>\n",
              "      <th>Qual_miles</th>\n",
              "      <th>cc1_miles</th>\n",
              "      <th>cc2_miles</th>\n",
              "      <th>cc3_miles</th>\n",
              "      <th>Bonus_miles</th>\n",
              "      <th>Bonus_trans</th>\n",
              "      <th>Flight_miles_12mo</th>\n",
              "      <th>Flight_trans_12</th>\n",
              "      <th>Days_since_enroll</th>\n",
              "      <th>Award</th>\n",
              "      <th>Kmeans_label</th>\n",
              "      <th>Hierarchical_labels</th>\n",
              "      <th>DBSCAN_labels</th>\n",
              "    </tr>\n",
              "  </thead>\n",
              "  <tbody>\n",
              "    <tr>\n",
              "      <th>0</th>\n",
              "      <td>1</td>\n",
              "      <td>28143</td>\n",
              "      <td>0</td>\n",
              "      <td>1</td>\n",
              "      <td>1</td>\n",
              "      <td>1</td>\n",
              "      <td>174</td>\n",
              "      <td>1</td>\n",
              "      <td>0</td>\n",
              "      <td>0</td>\n",
              "      <td>7000</td>\n",
              "      <td>0</td>\n",
              "      <td>2</td>\n",
              "      <td>1</td>\n",
              "      <td>0</td>\n",
              "    </tr>\n",
              "    <tr>\n",
              "      <th>1</th>\n",
              "      <td>2</td>\n",
              "      <td>19244</td>\n",
              "      <td>0</td>\n",
              "      <td>1</td>\n",
              "      <td>1</td>\n",
              "      <td>1</td>\n",
              "      <td>215</td>\n",
              "      <td>2</td>\n",
              "      <td>0</td>\n",
              "      <td>0</td>\n",
              "      <td>6968</td>\n",
              "      <td>0</td>\n",
              "      <td>2</td>\n",
              "      <td>1</td>\n",
              "      <td>0</td>\n",
              "    </tr>\n",
              "    <tr>\n",
              "      <th>2</th>\n",
              "      <td>3</td>\n",
              "      <td>41354</td>\n",
              "      <td>0</td>\n",
              "      <td>1</td>\n",
              "      <td>1</td>\n",
              "      <td>1</td>\n",
              "      <td>4123</td>\n",
              "      <td>4</td>\n",
              "      <td>0</td>\n",
              "      <td>0</td>\n",
              "      <td>7034</td>\n",
              "      <td>0</td>\n",
              "      <td>2</td>\n",
              "      <td>1</td>\n",
              "      <td>0</td>\n",
              "    </tr>\n",
              "    <tr>\n",
              "      <th>3</th>\n",
              "      <td>4</td>\n",
              "      <td>14776</td>\n",
              "      <td>0</td>\n",
              "      <td>1</td>\n",
              "      <td>1</td>\n",
              "      <td>1</td>\n",
              "      <td>500</td>\n",
              "      <td>1</td>\n",
              "      <td>0</td>\n",
              "      <td>0</td>\n",
              "      <td>6952</td>\n",
              "      <td>0</td>\n",
              "      <td>2</td>\n",
              "      <td>1</td>\n",
              "      <td>0</td>\n",
              "    </tr>\n",
              "    <tr>\n",
              "      <th>4</th>\n",
              "      <td>5</td>\n",
              "      <td>97752</td>\n",
              "      <td>0</td>\n",
              "      <td>4</td>\n",
              "      <td>1</td>\n",
              "      <td>1</td>\n",
              "      <td>43300</td>\n",
              "      <td>26</td>\n",
              "      <td>2077</td>\n",
              "      <td>4</td>\n",
              "      <td>6935</td>\n",
              "      <td>1</td>\n",
              "      <td>1</td>\n",
              "      <td>0</td>\n",
              "      <td>0</td>\n",
              "    </tr>\n",
              "  </tbody>\n",
              "</table>\n",
              "</div>\n",
              "      <button class=\"colab-df-convert\" onclick=\"convertToInteractive('df-b26fb16c-8ccf-4e7d-a61a-85e96980ee59')\"\n",
              "              title=\"Convert this dataframe to an interactive table.\"\n",
              "              style=\"display:none;\">\n",
              "        \n",
              "  <svg xmlns=\"http://www.w3.org/2000/svg\" height=\"24px\"viewBox=\"0 0 24 24\"\n",
              "       width=\"24px\">\n",
              "    <path d=\"M0 0h24v24H0V0z\" fill=\"none\"/>\n",
              "    <path d=\"M18.56 5.44l.94 2.06.94-2.06 2.06-.94-2.06-.94-.94-2.06-.94 2.06-2.06.94zm-11 1L8.5 8.5l.94-2.06 2.06-.94-2.06-.94L8.5 2.5l-.94 2.06-2.06.94zm10 10l.94 2.06.94-2.06 2.06-.94-2.06-.94-.94-2.06-.94 2.06-2.06.94z\"/><path d=\"M17.41 7.96l-1.37-1.37c-.4-.4-.92-.59-1.43-.59-.52 0-1.04.2-1.43.59L10.3 9.45l-7.72 7.72c-.78.78-.78 2.05 0 2.83L4 21.41c.39.39.9.59 1.41.59.51 0 1.02-.2 1.41-.59l7.78-7.78 2.81-2.81c.8-.78.8-2.07 0-2.86zM5.41 20L4 18.59l7.72-7.72 1.47 1.35L5.41 20z\"/>\n",
              "  </svg>\n",
              "      </button>\n",
              "      \n",
              "  <style>\n",
              "    .colab-df-container {\n",
              "      display:flex;\n",
              "      flex-wrap:wrap;\n",
              "      gap: 12px;\n",
              "    }\n",
              "\n",
              "    .colab-df-convert {\n",
              "      background-color: #E8F0FE;\n",
              "      border: none;\n",
              "      border-radius: 50%;\n",
              "      cursor: pointer;\n",
              "      display: none;\n",
              "      fill: #1967D2;\n",
              "      height: 32px;\n",
              "      padding: 0 0 0 0;\n",
              "      width: 32px;\n",
              "    }\n",
              "\n",
              "    .colab-df-convert:hover {\n",
              "      background-color: #E2EBFA;\n",
              "      box-shadow: 0px 1px 2px rgba(60, 64, 67, 0.3), 0px 1px 3px 1px rgba(60, 64, 67, 0.15);\n",
              "      fill: #174EA6;\n",
              "    }\n",
              "\n",
              "    [theme=dark] .colab-df-convert {\n",
              "      background-color: #3B4455;\n",
              "      fill: #D2E3FC;\n",
              "    }\n",
              "\n",
              "    [theme=dark] .colab-df-convert:hover {\n",
              "      background-color: #434B5C;\n",
              "      box-shadow: 0px 1px 3px 1px rgba(0, 0, 0, 0.15);\n",
              "      filter: drop-shadow(0px 1px 2px rgba(0, 0, 0, 0.3));\n",
              "      fill: #FFFFFF;\n",
              "    }\n",
              "  </style>\n",
              "\n",
              "      <script>\n",
              "        const buttonEl =\n",
              "          document.querySelector('#df-b26fb16c-8ccf-4e7d-a61a-85e96980ee59 button.colab-df-convert');\n",
              "        buttonEl.style.display =\n",
              "          google.colab.kernel.accessAllowed ? 'block' : 'none';\n",
              "\n",
              "        async function convertToInteractive(key) {\n",
              "          const element = document.querySelector('#df-b26fb16c-8ccf-4e7d-a61a-85e96980ee59');\n",
              "          const dataTable =\n",
              "            await google.colab.kernel.invokeFunction('convertToInteractive',\n",
              "                                                     [key], {});\n",
              "          if (!dataTable) return;\n",
              "\n",
              "          const docLinkHtml = 'Like what you see? Visit the ' +\n",
              "            '<a target=\"_blank\" href=https://colab.research.google.com/notebooks/data_table.ipynb>data table notebook</a>'\n",
              "            + ' to learn more about interactive tables.';\n",
              "          element.innerHTML = '';\n",
              "          dataTable['output_type'] = 'display_data';\n",
              "          await google.colab.output.renderOutput(dataTable, element);\n",
              "          const docLink = document.createElement('div');\n",
              "          docLink.innerHTML = docLinkHtml;\n",
              "          element.appendChild(docLink);\n",
              "        }\n",
              "      </script>\n",
              "    </div>\n",
              "  </div>\n",
              "  "
            ]
          },
          "metadata": {},
          "execution_count": 53
        }
      ]
    },
    {
      "cell_type": "code",
      "source": [
        "# Plotting barplot using groupby method to get visualize how many row no. in each cluster\n",
        "\n",
        "fig, ax = plt.subplots(figsize=(10, 6))\n",
        "df.groupby(['DBSCAN_labels']).count()['ID'].plot(kind='bar')\n",
        "plt.ylabel('ID Counts')\n",
        "plt.title('DBSCAN Clustering Standard Scaled Data',fontsize='large',fontweight='bold')\n",
        "ax.set_xlabel('Clusters', fontsize='large', fontweight='bold')\n",
        "ax.set_ylabel('ID counts', fontsize='large', fontweight='bold')\n",
        "plt.yticks(fontsize=15)\n",
        "plt.xticks(fontsize=15)\n",
        "plt.show()"
      ],
      "metadata": {
        "colab": {
          "base_uri": "https://localhost:8080/",
          "height": 412
        },
        "id": "0Wb3lRsAS3Y-",
        "outputId": "507cd17c-93c9-43b1-a597-c5f7fa31e51b"
      },
      "execution_count": 54,
      "outputs": [
        {
          "output_type": "display_data",
          "data": {
            "text/plain": [
              "<Figure size 720x432 with 1 Axes>"
            ],
            "image/png": "[encoded data removed]"
          },
          "metadata": {}
        }
      ]
    },
    {
      "cell_type": "markdown",
      "source": [
        "#I have applied EDA to analyze dataset.Discovered correlation between diff variables and found colinearity.\n",
        "Applied Standardazation & MinMaxScalar transformation on the data to use Principle componets analysis effectively.\n",
        "#I have used & analyzed two clustering techniques here..i) KMeans, ii) Hierarchical Clusterig & iii) DBSCAN.\n",
        "By applying clustering on diff. PCA obtained with diff transformation data shows fluctuation in model score. So finally the Standard Scaler found less score so not used for further model building.\n",
        "#KMeans clustering is sensitive to outliers"
      ],
      "metadata": {
        "id": "551CPOwnTvBj"
      }
    }
  ]
}